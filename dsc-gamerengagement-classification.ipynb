{
 "cells": [
  {
   "cell_type": "markdown",
   "id": "b7564c05-13d8-4da7-8a7a-3ad58a19ce09",
   "metadata": {},
   "source": [
    "# Gamer Engagement Classification\n",
    "Authors: Cayke Felipe dos Anjos and James Warsing"
   ]
  },
  {
   "cell_type": "markdown",
   "id": "332a98c8-6d9b-4085-8daa-ed1288d2be9e",
   "metadata": {},
   "source": [
    "<img src=\"images/eldenring.jpg\" alt=\"Alt text\" width=\"1200\"/>"
   ]
  },
  {
   "cell_type": "markdown",
   "id": "c10bd75b-9d40-4203-91aa-6f6a4662eb6e",
   "metadata": {},
   "source": [
    "# Overview\n",
    "This project analyzes gamer engagement data to offer strategic business recommendations for a new game studio. We aim to train statistical models in order to predict the most engaging gaming genres and difficulties for game production. Gaming engagement is very correlated to profitability as more players tend to bring new players in and it also allows more people to purchase in game features or Downloadable Content (DLC), incresing the revenue.  As result this project provides three business recommendations: what genres and dificulties should a future game have for a variety of gamer profiles."
   ]
  },
  {
   "cell_type": "markdown",
   "id": "9f6317f0-6a37-4cdb-923a-e1ed020ccd23",
   "metadata": {},
   "source": [
    "## Business Problem\n",
    "\n",
    "The company is expanding its portfolio by investing in a new game studio. Launching a new game in today's competitive entertainment industry requires a solid understanding of what drives game success and attracts audiences. The game industry is known for its substantial risks and high capital demands. Recent successes in games with high investment and higher return rate such as the incredibly difficult role playing game \"Elden Ring\" costing around $\\$200$ millions but selling over 25 million copies and the action game \"Grand Theft Auto V\" which similarly costed around $\\$265$ millions but is estimated to have sold almost $\\$8$ billions are certainly a good example of how successful this industry can be. However, bad investments also do exist, like the first person shooting game \"Immortals of Aveum\", which costed $\\$125$ millions but sold only around $\\$2$ millions, which caused massive layoffs on the studio.\n",
    "\n",
    "Our project aims to analyze a gamer engagement dataset. By using data analysis techniques and statistical modelling, we seek to predict the best features that correlate with high player engagement. The goal is to provide three concrete business recommendations that maximize engagement and lower business risks, ensuring a strong entry into the market."
   ]
  },
  {
   "cell_type": "markdown",
   "id": "3653be24-a1eb-458e-b964-318ea4578c78",
   "metadata": {},
   "source": [
    "Questions we tried to answer with analysis:\n",
    "* What are the top features that correlate with gamer engagement?\n",
    "* How different are the audiences and their engagement choices?\n",
    "* What genres are most engaging for multiple audiences?"
   ]
  },
  {
   "cell_type": "code",
   "execution_count": 1,
   "id": "63cd182b-8af7-4fe9-ae3b-a8af1ac472a9",
   "metadata": {},
   "outputs": [],
   "source": [
    "import pandas as pd\n",
    "import matplotlib.pyplot as plt\n",
    "import seaborn as sns\n",
    "import numpy as np"
   ]
  },
  {
   "cell_type": "code",
   "execution_count": 9,
   "id": "832b9f1d-ba8e-4cad-bc26-a2cb45fb180e",
   "metadata": {},
   "outputs": [
    {
     "data": {
      "text/html": [
       "<div>\n",
       "<style scoped>\n",
       "    .dataframe tbody tr th:only-of-type {\n",
       "        vertical-align: middle;\n",
       "    }\n",
       "\n",
       "    .dataframe tbody tr th {\n",
       "        vertical-align: top;\n",
       "    }\n",
       "\n",
       "    .dataframe thead th {\n",
       "        text-align: right;\n",
       "    }\n",
       "</style>\n",
       "<table border=\"1\" class=\"dataframe\">\n",
       "  <thead>\n",
       "    <tr style=\"text-align: right;\">\n",
       "      <th></th>\n",
       "      <th>PlayerID</th>\n",
       "      <th>Age</th>\n",
       "      <th>Gender</th>\n",
       "      <th>Location</th>\n",
       "      <th>Genre</th>\n",
       "      <th>PlayTimeHours</th>\n",
       "      <th>InGamePurchases</th>\n",
       "      <th>Difficulty</th>\n",
       "      <th>SessionsPerWeek</th>\n",
       "      <th>AvgSessionDurationMinutes</th>\n",
       "      <th>Level</th>\n",
       "      <th>AchievementsUnlocked</th>\n",
       "      <th>Engagement</th>\n",
       "    </tr>\n",
       "  </thead>\n",
       "  <tbody>\n",
       "    <tr>\n",
       "      <th>0</th>\n",
       "      <td>9000</td>\n",
       "      <td>43</td>\n",
       "      <td>Male</td>\n",
       "      <td>Other</td>\n",
       "      <td>Strategy</td>\n",
       "      <td>16.271119</td>\n",
       "      <td>0</td>\n",
       "      <td>Medium</td>\n",
       "      <td>6</td>\n",
       "      <td>108</td>\n",
       "      <td>79</td>\n",
       "      <td>25</td>\n",
       "      <td>Medium</td>\n",
       "    </tr>\n",
       "    <tr>\n",
       "      <th>1</th>\n",
       "      <td>9001</td>\n",
       "      <td>29</td>\n",
       "      <td>Female</td>\n",
       "      <td>USA</td>\n",
       "      <td>Strategy</td>\n",
       "      <td>5.525961</td>\n",
       "      <td>0</td>\n",
       "      <td>Medium</td>\n",
       "      <td>5</td>\n",
       "      <td>144</td>\n",
       "      <td>11</td>\n",
       "      <td>10</td>\n",
       "      <td>Medium</td>\n",
       "    </tr>\n",
       "    <tr>\n",
       "      <th>2</th>\n",
       "      <td>9002</td>\n",
       "      <td>22</td>\n",
       "      <td>Female</td>\n",
       "      <td>USA</td>\n",
       "      <td>Sports</td>\n",
       "      <td>8.223755</td>\n",
       "      <td>0</td>\n",
       "      <td>Easy</td>\n",
       "      <td>16</td>\n",
       "      <td>142</td>\n",
       "      <td>35</td>\n",
       "      <td>41</td>\n",
       "      <td>High</td>\n",
       "    </tr>\n",
       "    <tr>\n",
       "      <th>3</th>\n",
       "      <td>9003</td>\n",
       "      <td>35</td>\n",
       "      <td>Male</td>\n",
       "      <td>USA</td>\n",
       "      <td>Action</td>\n",
       "      <td>5.265351</td>\n",
       "      <td>1</td>\n",
       "      <td>Easy</td>\n",
       "      <td>9</td>\n",
       "      <td>85</td>\n",
       "      <td>57</td>\n",
       "      <td>47</td>\n",
       "      <td>Medium</td>\n",
       "    </tr>\n",
       "    <tr>\n",
       "      <th>4</th>\n",
       "      <td>9004</td>\n",
       "      <td>33</td>\n",
       "      <td>Male</td>\n",
       "      <td>Europe</td>\n",
       "      <td>Action</td>\n",
       "      <td>15.531945</td>\n",
       "      <td>0</td>\n",
       "      <td>Medium</td>\n",
       "      <td>2</td>\n",
       "      <td>131</td>\n",
       "      <td>95</td>\n",
       "      <td>37</td>\n",
       "      <td>Medium</td>\n",
       "    </tr>\n",
       "    <tr>\n",
       "      <th>...</th>\n",
       "      <td>...</td>\n",
       "      <td>...</td>\n",
       "      <td>...</td>\n",
       "      <td>...</td>\n",
       "      <td>...</td>\n",
       "      <td>...</td>\n",
       "      <td>...</td>\n",
       "      <td>...</td>\n",
       "      <td>...</td>\n",
       "      <td>...</td>\n",
       "      <td>...</td>\n",
       "      <td>...</td>\n",
       "      <td>...</td>\n",
       "    </tr>\n",
       "    <tr>\n",
       "      <th>40029</th>\n",
       "      <td>49029</td>\n",
       "      <td>32</td>\n",
       "      <td>Male</td>\n",
       "      <td>USA</td>\n",
       "      <td>Strategy</td>\n",
       "      <td>20.619662</td>\n",
       "      <td>0</td>\n",
       "      <td>Easy</td>\n",
       "      <td>4</td>\n",
       "      <td>75</td>\n",
       "      <td>85</td>\n",
       "      <td>14</td>\n",
       "      <td>Medium</td>\n",
       "    </tr>\n",
       "    <tr>\n",
       "      <th>40030</th>\n",
       "      <td>49030</td>\n",
       "      <td>44</td>\n",
       "      <td>Female</td>\n",
       "      <td>Other</td>\n",
       "      <td>Simulation</td>\n",
       "      <td>13.539280</td>\n",
       "      <td>0</td>\n",
       "      <td>Hard</td>\n",
       "      <td>19</td>\n",
       "      <td>114</td>\n",
       "      <td>71</td>\n",
       "      <td>27</td>\n",
       "      <td>High</td>\n",
       "    </tr>\n",
       "    <tr>\n",
       "      <th>40031</th>\n",
       "      <td>49031</td>\n",
       "      <td>15</td>\n",
       "      <td>Female</td>\n",
       "      <td>USA</td>\n",
       "      <td>RPG</td>\n",
       "      <td>0.240057</td>\n",
       "      <td>1</td>\n",
       "      <td>Easy</td>\n",
       "      <td>10</td>\n",
       "      <td>176</td>\n",
       "      <td>29</td>\n",
       "      <td>1</td>\n",
       "      <td>High</td>\n",
       "    </tr>\n",
       "    <tr>\n",
       "      <th>40032</th>\n",
       "      <td>49032</td>\n",
       "      <td>34</td>\n",
       "      <td>Male</td>\n",
       "      <td>USA</td>\n",
       "      <td>Sports</td>\n",
       "      <td>14.017818</td>\n",
       "      <td>1</td>\n",
       "      <td>Medium</td>\n",
       "      <td>3</td>\n",
       "      <td>128</td>\n",
       "      <td>70</td>\n",
       "      <td>10</td>\n",
       "      <td>Medium</td>\n",
       "    </tr>\n",
       "    <tr>\n",
       "      <th>40033</th>\n",
       "      <td>49033</td>\n",
       "      <td>19</td>\n",
       "      <td>Male</td>\n",
       "      <td>USA</td>\n",
       "      <td>Sports</td>\n",
       "      <td>10.083804</td>\n",
       "      <td>0</td>\n",
       "      <td>Easy</td>\n",
       "      <td>13</td>\n",
       "      <td>84</td>\n",
       "      <td>72</td>\n",
       "      <td>39</td>\n",
       "      <td>Medium</td>\n",
       "    </tr>\n",
       "  </tbody>\n",
       "</table>\n",
       "<p>40034 rows × 13 columns</p>\n",
       "</div>"
      ],
      "text/plain": [
       "       PlayerID  Age  Gender Location       Genre  PlayTimeHours  \\\n",
       "0          9000   43    Male    Other    Strategy      16.271119   \n",
       "1          9001   29  Female      USA    Strategy       5.525961   \n",
       "2          9002   22  Female      USA      Sports       8.223755   \n",
       "3          9003   35    Male      USA      Action       5.265351   \n",
       "4          9004   33    Male   Europe      Action      15.531945   \n",
       "...         ...  ...     ...      ...         ...            ...   \n",
       "40029     49029   32    Male      USA    Strategy      20.619662   \n",
       "40030     49030   44  Female    Other  Simulation      13.539280   \n",
       "40031     49031   15  Female      USA         RPG       0.240057   \n",
       "40032     49032   34    Male      USA      Sports      14.017818   \n",
       "40033     49033   19    Male      USA      Sports      10.083804   \n",
       "\n",
       "       InGamePurchases Difficulty  SessionsPerWeek  AvgSessionDurationMinutes  \\\n",
       "0                    0     Medium                6                        108   \n",
       "1                    0     Medium                5                        144   \n",
       "2                    0       Easy               16                        142   \n",
       "3                    1       Easy                9                         85   \n",
       "4                    0     Medium                2                        131   \n",
       "...                ...        ...              ...                        ...   \n",
       "40029                0       Easy                4                         75   \n",
       "40030                0       Hard               19                        114   \n",
       "40031                1       Easy               10                        176   \n",
       "40032                1     Medium                3                        128   \n",
       "40033                0       Easy               13                         84   \n",
       "\n",
       "       Level  AchievementsUnlocked Engagement  \n",
       "0         79                    25     Medium  \n",
       "1         11                    10     Medium  \n",
       "2         35                    41       High  \n",
       "3         57                    47     Medium  \n",
       "4         95                    37     Medium  \n",
       "...      ...                   ...        ...  \n",
       "40029     85                    14     Medium  \n",
       "40030     71                    27       High  \n",
       "40031     29                     1       High  \n",
       "40032     70                    10     Medium  \n",
       "40033     72                    39     Medium  \n",
       "\n",
       "[40034 rows x 13 columns]"
      ]
     },
     "execution_count": 9,
     "metadata": {},
     "output_type": "execute_result"
    }
   ],
   "source": [
    "df = pd.read_csv('data/online_gaming_behavior_dataset.csv')\n",
    "df.rename(columns={'GameGenre':'Genre','GameDifficulty':'Difficulty','PlayerLevel':'Level','EngagementLevel':'Engagement'}, inplace=True)\n",
    "df"
   ]
  },
  {
   "cell_type": "code",
   "execution_count": 10,
   "id": "767f958d-4d36-41a7-8aa7-ad30668596a7",
   "metadata": {},
   "outputs": [
    {
     "name": "stdout",
     "output_type": "stream",
     "text": [
      "<class 'pandas.core.frame.DataFrame'>\n",
      "RangeIndex: 40034 entries, 0 to 40033\n",
      "Data columns (total 13 columns):\n",
      " #   Column                     Non-Null Count  Dtype  \n",
      "---  ------                     --------------  -----  \n",
      " 0   PlayerID                   40034 non-null  int64  \n",
      " 1   Age                        40034 non-null  int64  \n",
      " 2   Gender                     40034 non-null  object \n",
      " 3   Location                   40034 non-null  object \n",
      " 4   Genre                      40034 non-null  object \n",
      " 5   PlayTimeHours              40034 non-null  float64\n",
      " 6   InGamePurchases            40034 non-null  int64  \n",
      " 7   Difficulty                 40034 non-null  object \n",
      " 8   SessionsPerWeek            40034 non-null  int64  \n",
      " 9   AvgSessionDurationMinutes  40034 non-null  int64  \n",
      " 10  Level                      40034 non-null  int64  \n",
      " 11  AchievementsUnlocked       40034 non-null  int64  \n",
      " 12  Engagement                 40034 non-null  object \n",
      "dtypes: float64(1), int64(7), object(5)\n",
      "memory usage: 4.0+ MB\n"
     ]
    }
   ],
   "source": [
    "df.info()"
   ]
  },
  {
   "cell_type": "code",
   "execution_count": 5,
   "id": "078d16ef-5ce2-471c-93ad-600fe7ae8baa",
   "metadata": {},
   "outputs": [
    {
     "data": {
      "text/plain": [
       "Location\n",
       "USA       16000\n",
       "Europe    12004\n",
       "Asia       8095\n",
       "Other      3935\n",
       "Name: count, dtype: int64"
      ]
     },
     "execution_count": 5,
     "metadata": {},
     "output_type": "execute_result"
    }
   ],
   "source": [
    "df['Location'].value_counts()"
   ]
  },
  {
   "cell_type": "code",
   "execution_count": 7,
   "id": "c30498b9-ed84-448d-ac5f-6020b4cb0fe4",
   "metadata": {},
   "outputs": [
    {
     "data": {
      "text/plain": [
       "GameGenre\n",
       "Sports        8048\n",
       "Action        8039\n",
       "Strategy      8012\n",
       "Simulation    7983\n",
       "RPG           7952\n",
       "Name: count, dtype: int64"
      ]
     },
     "execution_count": 7,
     "metadata": {},
     "output_type": "execute_result"
    }
   ],
   "source": [
    "df['GameGenre'].value_counts()"
   ]
  },
  {
   "cell_type": "code",
   "execution_count": 12,
   "id": "3c569621-82f5-4b6e-8256-02204728d9ac",
   "metadata": {},
   "outputs": [
    {
     "data": {
      "text/plain": [
       "Gender\n",
       "Male      23959\n",
       "Female    16075\n",
       "Name: count, dtype: int64"
      ]
     },
     "execution_count": 12,
     "metadata": {},
     "output_type": "execute_result"
    }
   ],
   "source": [
    "df['Gender'].value_counts()"
   ]
  },
  {
   "cell_type": "code",
   "execution_count": 13,
   "id": "1d2c2730-45fa-4262-adbb-c0213bc0fa91",
   "metadata": {},
   "outputs": [
    {
     "data": {
      "text/plain": [
       "Difficulty\n",
       "Easy      20015\n",
       "Medium    12011\n",
       "Hard       8008\n",
       "Name: count, dtype: int64"
      ]
     },
     "execution_count": 13,
     "metadata": {},
     "output_type": "execute_result"
    }
   ],
   "source": [
    "df['Difficulty'].value_counts()"
   ]
  },
  {
   "cell_type": "code",
   "execution_count": 14,
   "id": "b74600e9-b265-4a0f-9a7f-608f1547dd3e",
   "metadata": {},
   "outputs": [
    {
     "data": {
      "text/plain": [
       "Engagement\n",
       "Medium    19374\n",
       "High      10336\n",
       "Low       10324\n",
       "Name: count, dtype: int64"
      ]
     },
     "execution_count": 14,
     "metadata": {},
     "output_type": "execute_result"
    }
   ],
   "source": [
    "df['Engagement'].value_counts()"
   ]
  },
  {
   "cell_type": "code",
   "execution_count": 15,
   "id": "ef26033b-11a6-4be7-86e5-b9dc39c9bde9",
   "metadata": {},
   "outputs": [],
   "source": [
    "df[['Gender','Difficulty','Engagement']] = df[['Gender','Difficulty','Engagement']].astype('category')\n",
    "df['Gender'] = df['Gender'].cat.reorder_categories(['Male','Female'])\n",
    "df['Difficulty'] = df['Difficulty'].cat.reorder_categories(['Easy','Medium','Hard'])\n",
    "df['Engagement'] = df['Engagement'].cat.reorder_categories(['Low','Medium','High'])"
   ]
  },
  {
   "cell_type": "code",
   "execution_count": 16,
   "id": "328fcc4b-b2cc-40c8-a83f-4502ed3f1e9f",
   "metadata": {},
   "outputs": [
    {
     "data": {
      "text/plain": [
       "0        0\n",
       "1        1\n",
       "2        1\n",
       "3        0\n",
       "4        0\n",
       "        ..\n",
       "40029    0\n",
       "40030    1\n",
       "40031    1\n",
       "40032    0\n",
       "40033    0\n",
       "Length: 40034, dtype: int8"
      ]
     },
     "execution_count": 16,
     "metadata": {},
     "output_type": "execute_result"
    }
   ],
   "source": [
    "df['Gender'].cat.codes"
   ]
  },
  {
   "cell_type": "code",
   "execution_count": 17,
   "id": "896c2b5f-9947-43e3-9591-16ec4e1ba4f1",
   "metadata": {},
   "outputs": [
    {
     "data": {
      "text/plain": [
       "0        1\n",
       "1        1\n",
       "2        0\n",
       "3        0\n",
       "4        1\n",
       "        ..\n",
       "40029    0\n",
       "40030    2\n",
       "40031    0\n",
       "40032    1\n",
       "40033    0\n",
       "Length: 40034, dtype: int8"
      ]
     },
     "execution_count": 17,
     "metadata": {},
     "output_type": "execute_result"
    }
   ],
   "source": [
    "df['Difficulty'].cat.codes"
   ]
  },
  {
   "cell_type": "code",
   "execution_count": 18,
   "id": "57c73b27-2387-4f2d-b3bd-edaa63bfc1ba",
   "metadata": {},
   "outputs": [
    {
     "data": {
      "text/plain": [
       "0        1\n",
       "1        1\n",
       "2        2\n",
       "3        1\n",
       "4        1\n",
       "        ..\n",
       "40029    1\n",
       "40030    2\n",
       "40031    2\n",
       "40032    1\n",
       "40033    1\n",
       "Length: 40034, dtype: int8"
      ]
     },
     "execution_count": 18,
     "metadata": {},
     "output_type": "execute_result"
    }
   ],
   "source": [
    "df['Engagement'].cat.codes"
   ]
  },
  {
   "cell_type": "code",
   "execution_count": null,
   "id": "3fb81ced-6699-4cc3-ab99-05586d51c59a",
   "metadata": {},
   "outputs": [],
   "source": []
  }
 ],
 "metadata": {
  "kernelspec": {
   "display_name": "Python (learn-env)",
   "language": "python",
   "name": "learn-env"
  },
  "language_info": {
   "codemirror_mode": {
    "name": "ipython",
    "version": 3
   },
   "file_extension": ".py",
   "mimetype": "text/x-python",
   "name": "python",
   "nbconvert_exporter": "python",
   "pygments_lexer": "ipython3",
   "version": "3.8.12"
  }
 },
 "nbformat": 4,
 "nbformat_minor": 5
}
