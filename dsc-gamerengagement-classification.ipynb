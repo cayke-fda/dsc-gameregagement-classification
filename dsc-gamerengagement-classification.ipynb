{
 "cells": [
  {
   "cell_type": "markdown",
   "id": "b7564c05-13d8-4da7-8a7a-3ad58a19ce09",
   "metadata": {},
   "source": [
    "# Gamer Engagement Classification\n",
    "Authors: Cayke Felipe dos Anjos and James Warsing"
   ]
  },
  {
   "cell_type": "markdown",
   "id": "332a98c8-6d9b-4085-8daa-ed1288d2be9e",
   "metadata": {},
   "source": [
    "<img src=\"images/eldenring.jpg\" alt=\"Alt text\" width=\"1200\"/>"
   ]
  },
  {
   "cell_type": "markdown",
   "id": "c10bd75b-9d40-4203-91aa-6f6a4662eb6e",
   "metadata": {},
   "source": [
    "# Overview\n",
    "This project analyzes gamer engagement data to offer strategic business recommendations for a new game studio. We aim to train statistical models in order to predict the most engaging gaming genres and difficulties for game production. Gaming engagement is very correlated to profitability as more players tend to bring new players in and it also allows more people to purchase in game features or Downloadable Content (DLC), incresing the revenue.  As result this project provides three business recommendations: what genres and dificulties should a future game have for a variety of gamer profiles."
   ]
  },
  {
   "cell_type": "markdown",
   "id": "9f6317f0-6a37-4cdb-923a-e1ed020ccd23",
   "metadata": {},
   "source": [
    "## Business Problem\n",
    "\n",
    "The company is expanding its portfolio by investing in a new game studio. Launching a new game in today's competitive entertainment industry requires a solid understanding of what drives game success and attracts audiences. The game industry is known for its substantial risks and high capital demands. Recent successes in games with high investment and higher return rate such as the incredibly difficult role playing game \"Elden Ring\" costing around $\\$200$ millions but selling over 25 million copies and the action game \"Grand Theft Auto V\" which similarly costed around $\\$265$ millions but is estimated to have sold almost $\\$8$ billions are certainly a good example of how successful this industry can be. However, bad investments also do exist, like the first person shooting game \"Immortals of Aveum\", which costed $\\$125$ millions but sold only around $\\$2$ millions, which caused massive layoffs on the studio.\n",
    "\n",
    "Our project aims to analyze a gamer engagement dataset. By using data analysis techniques and statistical modelling, we seek to predict the best features that correlate with high player engagement. The goal is to provide three concrete business recommendations that maximize engagement and lower business risks, ensuring a strong entry into the market."
   ]
  },
  {
   "cell_type": "markdown",
   "id": "3653be24-a1eb-458e-b964-318ea4578c78",
   "metadata": {},
   "source": [
    "Questions we tried to answer with analysis:\n",
    "* What are the top features that correlate with gamer engagement?\n",
    "* How different are the audiences and their engagement choices?\n",
    "* What genres are most engaging for multiple audiences?"
   ]
  },
  {
   "cell_type": "code",
   "execution_count": 112,
   "id": "63cd182b-8af7-4fe9-ae3b-a8af1ac472a9",
   "metadata": {},
   "outputs": [],
   "source": [
    "import pandas as pd\n",
    "import matplotlib.pyplot as plt\n",
    "import seaborn as sns\n",
    "import numpy as np\n",
    "\n",
    "from sklearn.preprocessing import OneHotEncoder\n",
    "from sklearn.linear_model import LogisticRegression\n",
    "from sklearn.model_selection import train_test_split\n",
    "from sklearn.preprocessing import StandardScaler\n",
    "from sklearn.metrics import ConfusionMatrixDisplay, accuracy_score, recall_score, precision_score, roc_curve,roc_auc_score, f1_score\n",
    "from sklearn.tree import DecisionTreeClassifier, plot_tree\n",
    "from sklearn.model_selection import GridSearchCV"
   ]
  },
  {
   "cell_type": "code",
   "execution_count": 113,
   "id": "300037da-391e-4212-99a0-c4f206d0ceb4",
   "metadata": {},
   "outputs": [],
   "source": [
    "from sklearn.base import BaseEstimator, ClassifierMixin\n",
    "\n",
    "class CustomLogisticRegression(BaseEstimator,ClassifierMixin):\n",
    "    from sklearn.linear_model import LogisticRegression\n",
    "    from sklearn.model_selection import train_test_split\n",
    "\n",
    "    \n",
    "    def __init__ (self, \n",
    "    penalty=None,\n",
    "    *,\n",
    "    dual=False,\n",
    "    tol=0.0001,\n",
    "    C=1.0,\n",
    "    fit_intercept=True,\n",
    "    intercept_scaling=1,\n",
    "    class_weight=None,\n",
    "    random_state=None,\n",
    "    solver='lbfgs',\n",
    "    max_iter=100,\n",
    "    multi_class='auto',\n",
    "    verbose=0,\n",
    "    warm_start=False,\n",
    "    n_jobs=None,\n",
    "    l1_ratio=None, \n",
    "    feature_to_divide=None, threshold=None):\n",
    "        self.logreg_more = LogisticRegression(penalty,dual,tol,C,fit_intercept,intercept_scaling,class_weight,random_state,solver,max_iter,multi_class, verbose,warm_start,n_jobs,l1_ratio)\n",
    "        self.logreg_less = LogisticRegression(penalty,dual,tol,C,fit_intercept,intercept_scaling,class_weight,random_state,solver,max_iter,multi_class, verbose,warm_start,n_jobs,l1_ratio)        \n",
    "        "
   ]
  },
  {
   "cell_type": "code",
   "execution_count": 114,
   "id": "832b9f1d-ba8e-4cad-bc26-a2cb45fb180e",
   "metadata": {},
   "outputs": [
    {
     "data": {
      "text/html": [
       "<div>\n",
       "<style scoped>\n",
       "    .dataframe tbody tr th:only-of-type {\n",
       "        vertical-align: middle;\n",
       "    }\n",
       "\n",
       "    .dataframe tbody tr th {\n",
       "        vertical-align: top;\n",
       "    }\n",
       "\n",
       "    .dataframe thead th {\n",
       "        text-align: right;\n",
       "    }\n",
       "</style>\n",
       "<table border=\"1\" class=\"dataframe\">\n",
       "  <thead>\n",
       "    <tr style=\"text-align: right;\">\n",
       "      <th></th>\n",
       "      <th>PlayerID</th>\n",
       "      <th>Age</th>\n",
       "      <th>Gender</th>\n",
       "      <th>Location</th>\n",
       "      <th>Genre</th>\n",
       "      <th>PlayTimeHours</th>\n",
       "      <th>InGamePurchases</th>\n",
       "      <th>Difficulty</th>\n",
       "      <th>SessionsPerWeek</th>\n",
       "      <th>AvgSessionDurationMinutes</th>\n",
       "      <th>Level</th>\n",
       "      <th>AchievementsUnlocked</th>\n",
       "      <th>Engagement</th>\n",
       "    </tr>\n",
       "  </thead>\n",
       "  <tbody>\n",
       "    <tr>\n",
       "      <th>0</th>\n",
       "      <td>9000</td>\n",
       "      <td>43</td>\n",
       "      <td>Male</td>\n",
       "      <td>Other</td>\n",
       "      <td>Strategy</td>\n",
       "      <td>16.271119</td>\n",
       "      <td>0</td>\n",
       "      <td>Medium</td>\n",
       "      <td>6</td>\n",
       "      <td>108</td>\n",
       "      <td>79</td>\n",
       "      <td>25</td>\n",
       "      <td>Medium</td>\n",
       "    </tr>\n",
       "    <tr>\n",
       "      <th>1</th>\n",
       "      <td>9001</td>\n",
       "      <td>29</td>\n",
       "      <td>Female</td>\n",
       "      <td>USA</td>\n",
       "      <td>Strategy</td>\n",
       "      <td>5.525961</td>\n",
       "      <td>0</td>\n",
       "      <td>Medium</td>\n",
       "      <td>5</td>\n",
       "      <td>144</td>\n",
       "      <td>11</td>\n",
       "      <td>10</td>\n",
       "      <td>Medium</td>\n",
       "    </tr>\n",
       "    <tr>\n",
       "      <th>2</th>\n",
       "      <td>9002</td>\n",
       "      <td>22</td>\n",
       "      <td>Female</td>\n",
       "      <td>USA</td>\n",
       "      <td>Sports</td>\n",
       "      <td>8.223755</td>\n",
       "      <td>0</td>\n",
       "      <td>Easy</td>\n",
       "      <td>16</td>\n",
       "      <td>142</td>\n",
       "      <td>35</td>\n",
       "      <td>41</td>\n",
       "      <td>High</td>\n",
       "    </tr>\n",
       "    <tr>\n",
       "      <th>3</th>\n",
       "      <td>9003</td>\n",
       "      <td>35</td>\n",
       "      <td>Male</td>\n",
       "      <td>USA</td>\n",
       "      <td>Action</td>\n",
       "      <td>5.265351</td>\n",
       "      <td>1</td>\n",
       "      <td>Easy</td>\n",
       "      <td>9</td>\n",
       "      <td>85</td>\n",
       "      <td>57</td>\n",
       "      <td>47</td>\n",
       "      <td>Medium</td>\n",
       "    </tr>\n",
       "    <tr>\n",
       "      <th>4</th>\n",
       "      <td>9004</td>\n",
       "      <td>33</td>\n",
       "      <td>Male</td>\n",
       "      <td>Europe</td>\n",
       "      <td>Action</td>\n",
       "      <td>15.531945</td>\n",
       "      <td>0</td>\n",
       "      <td>Medium</td>\n",
       "      <td>2</td>\n",
       "      <td>131</td>\n",
       "      <td>95</td>\n",
       "      <td>37</td>\n",
       "      <td>Medium</td>\n",
       "    </tr>\n",
       "    <tr>\n",
       "      <th>...</th>\n",
       "      <td>...</td>\n",
       "      <td>...</td>\n",
       "      <td>...</td>\n",
       "      <td>...</td>\n",
       "      <td>...</td>\n",
       "      <td>...</td>\n",
       "      <td>...</td>\n",
       "      <td>...</td>\n",
       "      <td>...</td>\n",
       "      <td>...</td>\n",
       "      <td>...</td>\n",
       "      <td>...</td>\n",
       "      <td>...</td>\n",
       "    </tr>\n",
       "    <tr>\n",
       "      <th>40029</th>\n",
       "      <td>49029</td>\n",
       "      <td>32</td>\n",
       "      <td>Male</td>\n",
       "      <td>USA</td>\n",
       "      <td>Strategy</td>\n",
       "      <td>20.619662</td>\n",
       "      <td>0</td>\n",
       "      <td>Easy</td>\n",
       "      <td>4</td>\n",
       "      <td>75</td>\n",
       "      <td>85</td>\n",
       "      <td>14</td>\n",
       "      <td>Medium</td>\n",
       "    </tr>\n",
       "    <tr>\n",
       "      <th>40030</th>\n",
       "      <td>49030</td>\n",
       "      <td>44</td>\n",
       "      <td>Female</td>\n",
       "      <td>Other</td>\n",
       "      <td>Simulation</td>\n",
       "      <td>13.539280</td>\n",
       "      <td>0</td>\n",
       "      <td>Hard</td>\n",
       "      <td>19</td>\n",
       "      <td>114</td>\n",
       "      <td>71</td>\n",
       "      <td>27</td>\n",
       "      <td>High</td>\n",
       "    </tr>\n",
       "    <tr>\n",
       "      <th>40031</th>\n",
       "      <td>49031</td>\n",
       "      <td>15</td>\n",
       "      <td>Female</td>\n",
       "      <td>USA</td>\n",
       "      <td>RPG</td>\n",
       "      <td>0.240057</td>\n",
       "      <td>1</td>\n",
       "      <td>Easy</td>\n",
       "      <td>10</td>\n",
       "      <td>176</td>\n",
       "      <td>29</td>\n",
       "      <td>1</td>\n",
       "      <td>High</td>\n",
       "    </tr>\n",
       "    <tr>\n",
       "      <th>40032</th>\n",
       "      <td>49032</td>\n",
       "      <td>34</td>\n",
       "      <td>Male</td>\n",
       "      <td>USA</td>\n",
       "      <td>Sports</td>\n",
       "      <td>14.017818</td>\n",
       "      <td>1</td>\n",
       "      <td>Medium</td>\n",
       "      <td>3</td>\n",
       "      <td>128</td>\n",
       "      <td>70</td>\n",
       "      <td>10</td>\n",
       "      <td>Medium</td>\n",
       "    </tr>\n",
       "    <tr>\n",
       "      <th>40033</th>\n",
       "      <td>49033</td>\n",
       "      <td>19</td>\n",
       "      <td>Male</td>\n",
       "      <td>USA</td>\n",
       "      <td>Sports</td>\n",
       "      <td>10.083804</td>\n",
       "      <td>0</td>\n",
       "      <td>Easy</td>\n",
       "      <td>13</td>\n",
       "      <td>84</td>\n",
       "      <td>72</td>\n",
       "      <td>39</td>\n",
       "      <td>Medium</td>\n",
       "    </tr>\n",
       "  </tbody>\n",
       "</table>\n",
       "<p>40034 rows × 13 columns</p>\n",
       "</div>"
      ],
      "text/plain": [
       "       PlayerID  Age  Gender Location       Genre  PlayTimeHours  \\\n",
       "0          9000   43    Male    Other    Strategy      16.271119   \n",
       "1          9001   29  Female      USA    Strategy       5.525961   \n",
       "2          9002   22  Female      USA      Sports       8.223755   \n",
       "3          9003   35    Male      USA      Action       5.265351   \n",
       "4          9004   33    Male   Europe      Action      15.531945   \n",
       "...         ...  ...     ...      ...         ...            ...   \n",
       "40029     49029   32    Male      USA    Strategy      20.619662   \n",
       "40030     49030   44  Female    Other  Simulation      13.539280   \n",
       "40031     49031   15  Female      USA         RPG       0.240057   \n",
       "40032     49032   34    Male      USA      Sports      14.017818   \n",
       "40033     49033   19    Male      USA      Sports      10.083804   \n",
       "\n",
       "       InGamePurchases Difficulty  SessionsPerWeek  AvgSessionDurationMinutes  \\\n",
       "0                    0     Medium                6                        108   \n",
       "1                    0     Medium                5                        144   \n",
       "2                    0       Easy               16                        142   \n",
       "3                    1       Easy                9                         85   \n",
       "4                    0     Medium                2                        131   \n",
       "...                ...        ...              ...                        ...   \n",
       "40029                0       Easy                4                         75   \n",
       "40030                0       Hard               19                        114   \n",
       "40031                1       Easy               10                        176   \n",
       "40032                1     Medium                3                        128   \n",
       "40033                0       Easy               13                         84   \n",
       "\n",
       "       Level  AchievementsUnlocked Engagement  \n",
       "0         79                    25     Medium  \n",
       "1         11                    10     Medium  \n",
       "2         35                    41       High  \n",
       "3         57                    47     Medium  \n",
       "4         95                    37     Medium  \n",
       "...      ...                   ...        ...  \n",
       "40029     85                    14     Medium  \n",
       "40030     71                    27       High  \n",
       "40031     29                     1       High  \n",
       "40032     70                    10     Medium  \n",
       "40033     72                    39     Medium  \n",
       "\n",
       "[40034 rows x 13 columns]"
      ]
     },
     "execution_count": 114,
     "metadata": {},
     "output_type": "execute_result"
    }
   ],
   "source": [
    "df = pd.read_csv('data/online_gaming_behavior_dataset.csv')\n",
    "df.rename(columns={'GameGenre':'Genre','GameDifficulty':'Difficulty','PlayerLevel':'Level','EngagementLevel':'Engagement'}, inplace=True)\n",
    "df"
   ]
  },
  {
   "cell_type": "code",
   "execution_count": 115,
   "id": "767f958d-4d36-41a7-8aa7-ad30668596a7",
   "metadata": {},
   "outputs": [
    {
     "name": "stdout",
     "output_type": "stream",
     "text": [
      "<class 'pandas.core.frame.DataFrame'>\n",
      "RangeIndex: 40034 entries, 0 to 40033\n",
      "Data columns (total 13 columns):\n",
      " #   Column                     Non-Null Count  Dtype  \n",
      "---  ------                     --------------  -----  \n",
      " 0   PlayerID                   40034 non-null  int64  \n",
      " 1   Age                        40034 non-null  int64  \n",
      " 2   Gender                     40034 non-null  object \n",
      " 3   Location                   40034 non-null  object \n",
      " 4   Genre                      40034 non-null  object \n",
      " 5   PlayTimeHours              40034 non-null  float64\n",
      " 6   InGamePurchases            40034 non-null  int64  \n",
      " 7   Difficulty                 40034 non-null  object \n",
      " 8   SessionsPerWeek            40034 non-null  int64  \n",
      " 9   AvgSessionDurationMinutes  40034 non-null  int64  \n",
      " 10  Level                      40034 non-null  int64  \n",
      " 11  AchievementsUnlocked       40034 non-null  int64  \n",
      " 12  Engagement                 40034 non-null  object \n",
      "dtypes: float64(1), int64(7), object(5)\n",
      "memory usage: 4.0+ MB\n"
     ]
    }
   ],
   "source": [
    "df.info()"
   ]
  },
  {
   "cell_type": "code",
   "execution_count": 116,
   "id": "434f60b5-fa90-40cc-9e8f-eda14c73774e",
   "metadata": {},
   "outputs": [
    {
     "data": {
      "text/plain": [
       "Location\n",
       "USA       16000\n",
       "Europe    12004\n",
       "Asia       8095\n",
       "Other      3935\n",
       "Name: count, dtype: int64"
      ]
     },
     "execution_count": 116,
     "metadata": {},
     "output_type": "execute_result"
    }
   ],
   "source": [
    "df['Location'].value_counts()"
   ]
  },
  {
   "cell_type": "code",
   "execution_count": 117,
   "id": "c30498b9-ed84-448d-ac5f-6020b4cb0fe4",
   "metadata": {},
   "outputs": [
    {
     "data": {
      "text/plain": [
       "Genre\n",
       "Sports        8048\n",
       "Action        8039\n",
       "Strategy      8012\n",
       "Simulation    7983\n",
       "RPG           7952\n",
       "Name: count, dtype: int64"
      ]
     },
     "execution_count": 117,
     "metadata": {},
     "output_type": "execute_result"
    }
   ],
   "source": [
    "df['Genre'].value_counts()"
   ]
  },
  {
   "cell_type": "code",
   "execution_count": 118,
   "id": "3c569621-82f5-4b6e-8256-02204728d9ac",
   "metadata": {},
   "outputs": [
    {
     "data": {
      "text/plain": [
       "Gender\n",
       "Male      23959\n",
       "Female    16075\n",
       "Name: count, dtype: int64"
      ]
     },
     "execution_count": 118,
     "metadata": {},
     "output_type": "execute_result"
    }
   ],
   "source": [
    "df['Gender'].value_counts()"
   ]
  },
  {
   "cell_type": "code",
   "execution_count": 119,
   "id": "6e343dbb-6eab-4461-aec9-91e84a33c67e",
   "metadata": {},
   "outputs": [],
   "source": [
    "df['Gender'].replace({'Male':0,'Female':1},inplace=True)\n",
    "df.rename(columns={'Gender':'Female'},inplace=True)"
   ]
  },
  {
   "cell_type": "code",
   "execution_count": 120,
   "id": "1d2c2730-45fa-4262-adbb-c0213bc0fa91",
   "metadata": {},
   "outputs": [
    {
     "data": {
      "text/plain": [
       "Difficulty\n",
       "Easy      20015\n",
       "Medium    12011\n",
       "Hard       8008\n",
       "Name: count, dtype: int64"
      ]
     },
     "execution_count": 120,
     "metadata": {},
     "output_type": "execute_result"
    }
   ],
   "source": [
    "df['Difficulty'].value_counts()"
   ]
  },
  {
   "cell_type": "code",
   "execution_count": 121,
   "id": "b74600e9-b265-4a0f-9a7f-608f1547dd3e",
   "metadata": {},
   "outputs": [
    {
     "data": {
      "text/plain": [
       "Engagement\n",
       "Medium    19374\n",
       "High      10336\n",
       "Low       10324\n",
       "Name: count, dtype: int64"
      ]
     },
     "execution_count": 121,
     "metadata": {},
     "output_type": "execute_result"
    }
   ],
   "source": [
    "df['Engagement'].value_counts()"
   ]
  },
  {
   "cell_type": "code",
   "execution_count": 122,
   "id": "ea6124f0-7e1c-4143-a779-317443edfb34",
   "metadata": {},
   "outputs": [],
   "source": [
    "df['Difficulty'].replace({'Easy':0,'Medium':1,'Hard':2},inplace=True)\n",
    "df['Engagement'].replace({'Low':0,'Medium':1,'High':2},inplace=True)"
   ]
  },
  {
   "cell_type": "code",
   "execution_count": 123,
   "id": "e3a03b91-7123-4d00-807f-d5582732fdd4",
   "metadata": {},
   "outputs": [
    {
     "data": {
      "text/html": [
       "<div>\n",
       "<style scoped>\n",
       "    .dataframe tbody tr th:only-of-type {\n",
       "        vertical-align: middle;\n",
       "    }\n",
       "\n",
       "    .dataframe tbody tr th {\n",
       "        vertical-align: top;\n",
       "    }\n",
       "\n",
       "    .dataframe thead th {\n",
       "        text-align: right;\n",
       "    }\n",
       "</style>\n",
       "<table border=\"1\" class=\"dataframe\">\n",
       "  <thead>\n",
       "    <tr style=\"text-align: right;\">\n",
       "      <th></th>\n",
       "      <th>PlayerID</th>\n",
       "      <th>Age</th>\n",
       "      <th>Female</th>\n",
       "      <th>Location</th>\n",
       "      <th>Genre</th>\n",
       "      <th>PlayTimeHours</th>\n",
       "      <th>InGamePurchases</th>\n",
       "      <th>Difficulty</th>\n",
       "      <th>SessionsPerWeek</th>\n",
       "      <th>AvgSessionDurationMinutes</th>\n",
       "      <th>Level</th>\n",
       "      <th>AchievementsUnlocked</th>\n",
       "      <th>Engagement</th>\n",
       "    </tr>\n",
       "  </thead>\n",
       "  <tbody>\n",
       "    <tr>\n",
       "      <th>0</th>\n",
       "      <td>9000</td>\n",
       "      <td>43</td>\n",
       "      <td>0</td>\n",
       "      <td>Other</td>\n",
       "      <td>Strategy</td>\n",
       "      <td>16.271119</td>\n",
       "      <td>0</td>\n",
       "      <td>1</td>\n",
       "      <td>6</td>\n",
       "      <td>108</td>\n",
       "      <td>79</td>\n",
       "      <td>25</td>\n",
       "      <td>1</td>\n",
       "    </tr>\n",
       "    <tr>\n",
       "      <th>1</th>\n",
       "      <td>9001</td>\n",
       "      <td>29</td>\n",
       "      <td>1</td>\n",
       "      <td>USA</td>\n",
       "      <td>Strategy</td>\n",
       "      <td>5.525961</td>\n",
       "      <td>0</td>\n",
       "      <td>1</td>\n",
       "      <td>5</td>\n",
       "      <td>144</td>\n",
       "      <td>11</td>\n",
       "      <td>10</td>\n",
       "      <td>1</td>\n",
       "    </tr>\n",
       "    <tr>\n",
       "      <th>2</th>\n",
       "      <td>9002</td>\n",
       "      <td>22</td>\n",
       "      <td>1</td>\n",
       "      <td>USA</td>\n",
       "      <td>Sports</td>\n",
       "      <td>8.223755</td>\n",
       "      <td>0</td>\n",
       "      <td>0</td>\n",
       "      <td>16</td>\n",
       "      <td>142</td>\n",
       "      <td>35</td>\n",
       "      <td>41</td>\n",
       "      <td>2</td>\n",
       "    </tr>\n",
       "    <tr>\n",
       "      <th>3</th>\n",
       "      <td>9003</td>\n",
       "      <td>35</td>\n",
       "      <td>0</td>\n",
       "      <td>USA</td>\n",
       "      <td>Action</td>\n",
       "      <td>5.265351</td>\n",
       "      <td>1</td>\n",
       "      <td>0</td>\n",
       "      <td>9</td>\n",
       "      <td>85</td>\n",
       "      <td>57</td>\n",
       "      <td>47</td>\n",
       "      <td>1</td>\n",
       "    </tr>\n",
       "    <tr>\n",
       "      <th>4</th>\n",
       "      <td>9004</td>\n",
       "      <td>33</td>\n",
       "      <td>0</td>\n",
       "      <td>Europe</td>\n",
       "      <td>Action</td>\n",
       "      <td>15.531945</td>\n",
       "      <td>0</td>\n",
       "      <td>1</td>\n",
       "      <td>2</td>\n",
       "      <td>131</td>\n",
       "      <td>95</td>\n",
       "      <td>37</td>\n",
       "      <td>1</td>\n",
       "    </tr>\n",
       "    <tr>\n",
       "      <th>...</th>\n",
       "      <td>...</td>\n",
       "      <td>...</td>\n",
       "      <td>...</td>\n",
       "      <td>...</td>\n",
       "      <td>...</td>\n",
       "      <td>...</td>\n",
       "      <td>...</td>\n",
       "      <td>...</td>\n",
       "      <td>...</td>\n",
       "      <td>...</td>\n",
       "      <td>...</td>\n",
       "      <td>...</td>\n",
       "      <td>...</td>\n",
       "    </tr>\n",
       "    <tr>\n",
       "      <th>40029</th>\n",
       "      <td>49029</td>\n",
       "      <td>32</td>\n",
       "      <td>0</td>\n",
       "      <td>USA</td>\n",
       "      <td>Strategy</td>\n",
       "      <td>20.619662</td>\n",
       "      <td>0</td>\n",
       "      <td>0</td>\n",
       "      <td>4</td>\n",
       "      <td>75</td>\n",
       "      <td>85</td>\n",
       "      <td>14</td>\n",
       "      <td>1</td>\n",
       "    </tr>\n",
       "    <tr>\n",
       "      <th>40030</th>\n",
       "      <td>49030</td>\n",
       "      <td>44</td>\n",
       "      <td>1</td>\n",
       "      <td>Other</td>\n",
       "      <td>Simulation</td>\n",
       "      <td>13.539280</td>\n",
       "      <td>0</td>\n",
       "      <td>2</td>\n",
       "      <td>19</td>\n",
       "      <td>114</td>\n",
       "      <td>71</td>\n",
       "      <td>27</td>\n",
       "      <td>2</td>\n",
       "    </tr>\n",
       "    <tr>\n",
       "      <th>40031</th>\n",
       "      <td>49031</td>\n",
       "      <td>15</td>\n",
       "      <td>1</td>\n",
       "      <td>USA</td>\n",
       "      <td>RPG</td>\n",
       "      <td>0.240057</td>\n",
       "      <td>1</td>\n",
       "      <td>0</td>\n",
       "      <td>10</td>\n",
       "      <td>176</td>\n",
       "      <td>29</td>\n",
       "      <td>1</td>\n",
       "      <td>2</td>\n",
       "    </tr>\n",
       "    <tr>\n",
       "      <th>40032</th>\n",
       "      <td>49032</td>\n",
       "      <td>34</td>\n",
       "      <td>0</td>\n",
       "      <td>USA</td>\n",
       "      <td>Sports</td>\n",
       "      <td>14.017818</td>\n",
       "      <td>1</td>\n",
       "      <td>1</td>\n",
       "      <td>3</td>\n",
       "      <td>128</td>\n",
       "      <td>70</td>\n",
       "      <td>10</td>\n",
       "      <td>1</td>\n",
       "    </tr>\n",
       "    <tr>\n",
       "      <th>40033</th>\n",
       "      <td>49033</td>\n",
       "      <td>19</td>\n",
       "      <td>0</td>\n",
       "      <td>USA</td>\n",
       "      <td>Sports</td>\n",
       "      <td>10.083804</td>\n",
       "      <td>0</td>\n",
       "      <td>0</td>\n",
       "      <td>13</td>\n",
       "      <td>84</td>\n",
       "      <td>72</td>\n",
       "      <td>39</td>\n",
       "      <td>1</td>\n",
       "    </tr>\n",
       "  </tbody>\n",
       "</table>\n",
       "<p>40034 rows × 13 columns</p>\n",
       "</div>"
      ],
      "text/plain": [
       "       PlayerID  Age  Female Location       Genre  PlayTimeHours  \\\n",
       "0          9000   43       0    Other    Strategy      16.271119   \n",
       "1          9001   29       1      USA    Strategy       5.525961   \n",
       "2          9002   22       1      USA      Sports       8.223755   \n",
       "3          9003   35       0      USA      Action       5.265351   \n",
       "4          9004   33       0   Europe      Action      15.531945   \n",
       "...         ...  ...     ...      ...         ...            ...   \n",
       "40029     49029   32       0      USA    Strategy      20.619662   \n",
       "40030     49030   44       1    Other  Simulation      13.539280   \n",
       "40031     49031   15       1      USA         RPG       0.240057   \n",
       "40032     49032   34       0      USA      Sports      14.017818   \n",
       "40033     49033   19       0      USA      Sports      10.083804   \n",
       "\n",
       "       InGamePurchases  Difficulty  SessionsPerWeek  \\\n",
       "0                    0           1                6   \n",
       "1                    0           1                5   \n",
       "2                    0           0               16   \n",
       "3                    1           0                9   \n",
       "4                    0           1                2   \n",
       "...                ...         ...              ...   \n",
       "40029                0           0                4   \n",
       "40030                0           2               19   \n",
       "40031                1           0               10   \n",
       "40032                1           1                3   \n",
       "40033                0           0               13   \n",
       "\n",
       "       AvgSessionDurationMinutes  Level  AchievementsUnlocked  Engagement  \n",
       "0                            108     79                    25           1  \n",
       "1                            144     11                    10           1  \n",
       "2                            142     35                    41           2  \n",
       "3                             85     57                    47           1  \n",
       "4                            131     95                    37           1  \n",
       "...                          ...    ...                   ...         ...  \n",
       "40029                         75     85                    14           1  \n",
       "40030                        114     71                    27           2  \n",
       "40031                        176     29                     1           2  \n",
       "40032                        128     70                    10           1  \n",
       "40033                         84     72                    39           1  \n",
       "\n",
       "[40034 rows x 13 columns]"
      ]
     },
     "execution_count": 123,
     "metadata": {},
     "output_type": "execute_result"
    }
   ],
   "source": [
    "df"
   ]
  },
  {
   "cell_type": "code",
   "execution_count": 124,
   "id": "c53e2f12-d661-482c-a0a6-ea621badbbf9",
   "metadata": {},
   "outputs": [],
   "source": [
    "ohe = OneHotEncoder(drop='first',sparse=False)"
   ]
  },
  {
   "cell_type": "code",
   "execution_count": 125,
   "id": "b339adb0-0725-4cdf-aad9-aecf6767b20d",
   "metadata": {},
   "outputs": [
    {
     "name": "stderr",
     "output_type": "stream",
     "text": [
      "/home/cayke/anaconda3/envs/learn-env/lib/python3.8/site-packages/sklearn/preprocessing/_encoders.py:972: FutureWarning: `sparse` was renamed to `sparse_output` in version 1.2 and will be removed in 1.4. `sparse_output` is ignored unless you leave `sparse` to its default value.\n",
      "  warnings.warn(\n"
     ]
    },
    {
     "data": {
      "text/html": [
       "<div>\n",
       "<style scoped>\n",
       "    .dataframe tbody tr th:only-of-type {\n",
       "        vertical-align: middle;\n",
       "    }\n",
       "\n",
       "    .dataframe tbody tr th {\n",
       "        vertical-align: top;\n",
       "    }\n",
       "\n",
       "    .dataframe thead th {\n",
       "        text-align: right;\n",
       "    }\n",
       "</style>\n",
       "<table border=\"1\" class=\"dataframe\">\n",
       "  <thead>\n",
       "    <tr style=\"text-align: right;\">\n",
       "      <th></th>\n",
       "      <th>Location_Europe</th>\n",
       "      <th>Location_Other</th>\n",
       "      <th>Location_USA</th>\n",
       "      <th>Genre_RPG</th>\n",
       "      <th>Genre_Simulation</th>\n",
       "      <th>Genre_Sports</th>\n",
       "      <th>Genre_Strategy</th>\n",
       "    </tr>\n",
       "  </thead>\n",
       "  <tbody>\n",
       "    <tr>\n",
       "      <th>0</th>\n",
       "      <td>0.0</td>\n",
       "      <td>1.0</td>\n",
       "      <td>0.0</td>\n",
       "      <td>0.0</td>\n",
       "      <td>0.0</td>\n",
       "      <td>0.0</td>\n",
       "      <td>1.0</td>\n",
       "    </tr>\n",
       "    <tr>\n",
       "      <th>1</th>\n",
       "      <td>0.0</td>\n",
       "      <td>0.0</td>\n",
       "      <td>1.0</td>\n",
       "      <td>0.0</td>\n",
       "      <td>0.0</td>\n",
       "      <td>0.0</td>\n",
       "      <td>1.0</td>\n",
       "    </tr>\n",
       "    <tr>\n",
       "      <th>2</th>\n",
       "      <td>0.0</td>\n",
       "      <td>0.0</td>\n",
       "      <td>1.0</td>\n",
       "      <td>0.0</td>\n",
       "      <td>0.0</td>\n",
       "      <td>1.0</td>\n",
       "      <td>0.0</td>\n",
       "    </tr>\n",
       "    <tr>\n",
       "      <th>3</th>\n",
       "      <td>0.0</td>\n",
       "      <td>0.0</td>\n",
       "      <td>1.0</td>\n",
       "      <td>0.0</td>\n",
       "      <td>0.0</td>\n",
       "      <td>0.0</td>\n",
       "      <td>0.0</td>\n",
       "    </tr>\n",
       "    <tr>\n",
       "      <th>4</th>\n",
       "      <td>1.0</td>\n",
       "      <td>0.0</td>\n",
       "      <td>0.0</td>\n",
       "      <td>0.0</td>\n",
       "      <td>0.0</td>\n",
       "      <td>0.0</td>\n",
       "      <td>0.0</td>\n",
       "    </tr>\n",
       "    <tr>\n",
       "      <th>...</th>\n",
       "      <td>...</td>\n",
       "      <td>...</td>\n",
       "      <td>...</td>\n",
       "      <td>...</td>\n",
       "      <td>...</td>\n",
       "      <td>...</td>\n",
       "      <td>...</td>\n",
       "    </tr>\n",
       "    <tr>\n",
       "      <th>40029</th>\n",
       "      <td>0.0</td>\n",
       "      <td>0.0</td>\n",
       "      <td>1.0</td>\n",
       "      <td>0.0</td>\n",
       "      <td>0.0</td>\n",
       "      <td>0.0</td>\n",
       "      <td>1.0</td>\n",
       "    </tr>\n",
       "    <tr>\n",
       "      <th>40030</th>\n",
       "      <td>0.0</td>\n",
       "      <td>1.0</td>\n",
       "      <td>0.0</td>\n",
       "      <td>0.0</td>\n",
       "      <td>1.0</td>\n",
       "      <td>0.0</td>\n",
       "      <td>0.0</td>\n",
       "    </tr>\n",
       "    <tr>\n",
       "      <th>40031</th>\n",
       "      <td>0.0</td>\n",
       "      <td>0.0</td>\n",
       "      <td>1.0</td>\n",
       "      <td>1.0</td>\n",
       "      <td>0.0</td>\n",
       "      <td>0.0</td>\n",
       "      <td>0.0</td>\n",
       "    </tr>\n",
       "    <tr>\n",
       "      <th>40032</th>\n",
       "      <td>0.0</td>\n",
       "      <td>0.0</td>\n",
       "      <td>1.0</td>\n",
       "      <td>0.0</td>\n",
       "      <td>0.0</td>\n",
       "      <td>1.0</td>\n",
       "      <td>0.0</td>\n",
       "    </tr>\n",
       "    <tr>\n",
       "      <th>40033</th>\n",
       "      <td>0.0</td>\n",
       "      <td>0.0</td>\n",
       "      <td>1.0</td>\n",
       "      <td>0.0</td>\n",
       "      <td>0.0</td>\n",
       "      <td>1.0</td>\n",
       "      <td>0.0</td>\n",
       "    </tr>\n",
       "  </tbody>\n",
       "</table>\n",
       "<p>40034 rows × 7 columns</p>\n",
       "</div>"
      ],
      "text/plain": [
       "       Location_Europe  Location_Other  Location_USA  Genre_RPG  \\\n",
       "0                  0.0             1.0           0.0        0.0   \n",
       "1                  0.0             0.0           1.0        0.0   \n",
       "2                  0.0             0.0           1.0        0.0   \n",
       "3                  0.0             0.0           1.0        0.0   \n",
       "4                  1.0             0.0           0.0        0.0   \n",
       "...                ...             ...           ...        ...   \n",
       "40029              0.0             0.0           1.0        0.0   \n",
       "40030              0.0             1.0           0.0        0.0   \n",
       "40031              0.0             0.0           1.0        1.0   \n",
       "40032              0.0             0.0           1.0        0.0   \n",
       "40033              0.0             0.0           1.0        0.0   \n",
       "\n",
       "       Genre_Simulation  Genre_Sports  Genre_Strategy  \n",
       "0                   0.0           0.0             1.0  \n",
       "1                   0.0           0.0             1.0  \n",
       "2                   0.0           1.0             0.0  \n",
       "3                   0.0           0.0             0.0  \n",
       "4                   0.0           0.0             0.0  \n",
       "...                 ...           ...             ...  \n",
       "40029               0.0           0.0             1.0  \n",
       "40030               1.0           0.0             0.0  \n",
       "40031               0.0           0.0             0.0  \n",
       "40032               0.0           1.0             0.0  \n",
       "40033               0.0           1.0             0.0  \n",
       "\n",
       "[40034 rows x 7 columns]"
      ]
     },
     "execution_count": 125,
     "metadata": {},
     "output_type": "execute_result"
    }
   ],
   "source": [
    "nominal_columns = ['Location', 'Genre']\n",
    "X_nom_trans = ohe.fit_transform(df[nominal_columns])\n",
    "cols = ohe.get_feature_names_out()\n",
    "X_nom = pd.DataFrame(X_nom_trans, columns=cols)\n",
    "X_nom"
   ]
  },
  {
   "cell_type": "code",
   "execution_count": 126,
   "id": "d39cb04e-3d24-4301-a0cc-144d8c23ec5d",
   "metadata": {},
   "outputs": [
    {
     "data": {
      "text/html": [
       "<div>\n",
       "<style scoped>\n",
       "    .dataframe tbody tr th:only-of-type {\n",
       "        vertical-align: middle;\n",
       "    }\n",
       "\n",
       "    .dataframe tbody tr th {\n",
       "        vertical-align: top;\n",
       "    }\n",
       "\n",
       "    .dataframe thead th {\n",
       "        text-align: right;\n",
       "    }\n",
       "</style>\n",
       "<table border=\"1\" class=\"dataframe\">\n",
       "  <thead>\n",
       "    <tr style=\"text-align: right;\">\n",
       "      <th></th>\n",
       "      <th>PlayerID</th>\n",
       "      <th>Age</th>\n",
       "      <th>Female</th>\n",
       "      <th>PlayTimeHours</th>\n",
       "      <th>InGamePurchases</th>\n",
       "      <th>Difficulty</th>\n",
       "      <th>SessionsPerWeek</th>\n",
       "      <th>AvgSessionDurationMinutes</th>\n",
       "      <th>Level</th>\n",
       "      <th>AchievementsUnlocked</th>\n",
       "      <th>Engagement</th>\n",
       "      <th>Location_Europe</th>\n",
       "      <th>Location_Other</th>\n",
       "      <th>Location_USA</th>\n",
       "      <th>Genre_RPG</th>\n",
       "      <th>Genre_Simulation</th>\n",
       "      <th>Genre_Sports</th>\n",
       "      <th>Genre_Strategy</th>\n",
       "    </tr>\n",
       "  </thead>\n",
       "  <tbody>\n",
       "    <tr>\n",
       "      <th>0</th>\n",
       "      <td>9000</td>\n",
       "      <td>43</td>\n",
       "      <td>0</td>\n",
       "      <td>16.271119</td>\n",
       "      <td>0</td>\n",
       "      <td>1</td>\n",
       "      <td>6</td>\n",
       "      <td>108</td>\n",
       "      <td>79</td>\n",
       "      <td>25</td>\n",
       "      <td>1</td>\n",
       "      <td>0.0</td>\n",
       "      <td>1.0</td>\n",
       "      <td>0.0</td>\n",
       "      <td>0.0</td>\n",
       "      <td>0.0</td>\n",
       "      <td>0.0</td>\n",
       "      <td>1.0</td>\n",
       "    </tr>\n",
       "    <tr>\n",
       "      <th>1</th>\n",
       "      <td>9001</td>\n",
       "      <td>29</td>\n",
       "      <td>1</td>\n",
       "      <td>5.525961</td>\n",
       "      <td>0</td>\n",
       "      <td>1</td>\n",
       "      <td>5</td>\n",
       "      <td>144</td>\n",
       "      <td>11</td>\n",
       "      <td>10</td>\n",
       "      <td>1</td>\n",
       "      <td>0.0</td>\n",
       "      <td>0.0</td>\n",
       "      <td>1.0</td>\n",
       "      <td>0.0</td>\n",
       "      <td>0.0</td>\n",
       "      <td>0.0</td>\n",
       "      <td>1.0</td>\n",
       "    </tr>\n",
       "    <tr>\n",
       "      <th>2</th>\n",
       "      <td>9002</td>\n",
       "      <td>22</td>\n",
       "      <td>1</td>\n",
       "      <td>8.223755</td>\n",
       "      <td>0</td>\n",
       "      <td>0</td>\n",
       "      <td>16</td>\n",
       "      <td>142</td>\n",
       "      <td>35</td>\n",
       "      <td>41</td>\n",
       "      <td>2</td>\n",
       "      <td>0.0</td>\n",
       "      <td>0.0</td>\n",
       "      <td>1.0</td>\n",
       "      <td>0.0</td>\n",
       "      <td>0.0</td>\n",
       "      <td>1.0</td>\n",
       "      <td>0.0</td>\n",
       "    </tr>\n",
       "    <tr>\n",
       "      <th>3</th>\n",
       "      <td>9003</td>\n",
       "      <td>35</td>\n",
       "      <td>0</td>\n",
       "      <td>5.265351</td>\n",
       "      <td>1</td>\n",
       "      <td>0</td>\n",
       "      <td>9</td>\n",
       "      <td>85</td>\n",
       "      <td>57</td>\n",
       "      <td>47</td>\n",
       "      <td>1</td>\n",
       "      <td>0.0</td>\n",
       "      <td>0.0</td>\n",
       "      <td>1.0</td>\n",
       "      <td>0.0</td>\n",
       "      <td>0.0</td>\n",
       "      <td>0.0</td>\n",
       "      <td>0.0</td>\n",
       "    </tr>\n",
       "    <tr>\n",
       "      <th>4</th>\n",
       "      <td>9004</td>\n",
       "      <td>33</td>\n",
       "      <td>0</td>\n",
       "      <td>15.531945</td>\n",
       "      <td>0</td>\n",
       "      <td>1</td>\n",
       "      <td>2</td>\n",
       "      <td>131</td>\n",
       "      <td>95</td>\n",
       "      <td>37</td>\n",
       "      <td>1</td>\n",
       "      <td>1.0</td>\n",
       "      <td>0.0</td>\n",
       "      <td>0.0</td>\n",
       "      <td>0.0</td>\n",
       "      <td>0.0</td>\n",
       "      <td>0.0</td>\n",
       "      <td>0.0</td>\n",
       "    </tr>\n",
       "    <tr>\n",
       "      <th>...</th>\n",
       "      <td>...</td>\n",
       "      <td>...</td>\n",
       "      <td>...</td>\n",
       "      <td>...</td>\n",
       "      <td>...</td>\n",
       "      <td>...</td>\n",
       "      <td>...</td>\n",
       "      <td>...</td>\n",
       "      <td>...</td>\n",
       "      <td>...</td>\n",
       "      <td>...</td>\n",
       "      <td>...</td>\n",
       "      <td>...</td>\n",
       "      <td>...</td>\n",
       "      <td>...</td>\n",
       "      <td>...</td>\n",
       "      <td>...</td>\n",
       "      <td>...</td>\n",
       "    </tr>\n",
       "    <tr>\n",
       "      <th>40029</th>\n",
       "      <td>49029</td>\n",
       "      <td>32</td>\n",
       "      <td>0</td>\n",
       "      <td>20.619662</td>\n",
       "      <td>0</td>\n",
       "      <td>0</td>\n",
       "      <td>4</td>\n",
       "      <td>75</td>\n",
       "      <td>85</td>\n",
       "      <td>14</td>\n",
       "      <td>1</td>\n",
       "      <td>0.0</td>\n",
       "      <td>0.0</td>\n",
       "      <td>1.0</td>\n",
       "      <td>0.0</td>\n",
       "      <td>0.0</td>\n",
       "      <td>0.0</td>\n",
       "      <td>1.0</td>\n",
       "    </tr>\n",
       "    <tr>\n",
       "      <th>40030</th>\n",
       "      <td>49030</td>\n",
       "      <td>44</td>\n",
       "      <td>1</td>\n",
       "      <td>13.539280</td>\n",
       "      <td>0</td>\n",
       "      <td>2</td>\n",
       "      <td>19</td>\n",
       "      <td>114</td>\n",
       "      <td>71</td>\n",
       "      <td>27</td>\n",
       "      <td>2</td>\n",
       "      <td>0.0</td>\n",
       "      <td>1.0</td>\n",
       "      <td>0.0</td>\n",
       "      <td>0.0</td>\n",
       "      <td>1.0</td>\n",
       "      <td>0.0</td>\n",
       "      <td>0.0</td>\n",
       "    </tr>\n",
       "    <tr>\n",
       "      <th>40031</th>\n",
       "      <td>49031</td>\n",
       "      <td>15</td>\n",
       "      <td>1</td>\n",
       "      <td>0.240057</td>\n",
       "      <td>1</td>\n",
       "      <td>0</td>\n",
       "      <td>10</td>\n",
       "      <td>176</td>\n",
       "      <td>29</td>\n",
       "      <td>1</td>\n",
       "      <td>2</td>\n",
       "      <td>0.0</td>\n",
       "      <td>0.0</td>\n",
       "      <td>1.0</td>\n",
       "      <td>1.0</td>\n",
       "      <td>0.0</td>\n",
       "      <td>0.0</td>\n",
       "      <td>0.0</td>\n",
       "    </tr>\n",
       "    <tr>\n",
       "      <th>40032</th>\n",
       "      <td>49032</td>\n",
       "      <td>34</td>\n",
       "      <td>0</td>\n",
       "      <td>14.017818</td>\n",
       "      <td>1</td>\n",
       "      <td>1</td>\n",
       "      <td>3</td>\n",
       "      <td>128</td>\n",
       "      <td>70</td>\n",
       "      <td>10</td>\n",
       "      <td>1</td>\n",
       "      <td>0.0</td>\n",
       "      <td>0.0</td>\n",
       "      <td>1.0</td>\n",
       "      <td>0.0</td>\n",
       "      <td>0.0</td>\n",
       "      <td>1.0</td>\n",
       "      <td>0.0</td>\n",
       "    </tr>\n",
       "    <tr>\n",
       "      <th>40033</th>\n",
       "      <td>49033</td>\n",
       "      <td>19</td>\n",
       "      <td>0</td>\n",
       "      <td>10.083804</td>\n",
       "      <td>0</td>\n",
       "      <td>0</td>\n",
       "      <td>13</td>\n",
       "      <td>84</td>\n",
       "      <td>72</td>\n",
       "      <td>39</td>\n",
       "      <td>1</td>\n",
       "      <td>0.0</td>\n",
       "      <td>0.0</td>\n",
       "      <td>1.0</td>\n",
       "      <td>0.0</td>\n",
       "      <td>0.0</td>\n",
       "      <td>1.0</td>\n",
       "      <td>0.0</td>\n",
       "    </tr>\n",
       "  </tbody>\n",
       "</table>\n",
       "<p>40034 rows × 18 columns</p>\n",
       "</div>"
      ],
      "text/plain": [
       "       PlayerID  Age  Female  PlayTimeHours  InGamePurchases  Difficulty  \\\n",
       "0          9000   43       0      16.271119                0           1   \n",
       "1          9001   29       1       5.525961                0           1   \n",
       "2          9002   22       1       8.223755                0           0   \n",
       "3          9003   35       0       5.265351                1           0   \n",
       "4          9004   33       0      15.531945                0           1   \n",
       "...         ...  ...     ...            ...              ...         ...   \n",
       "40029     49029   32       0      20.619662                0           0   \n",
       "40030     49030   44       1      13.539280                0           2   \n",
       "40031     49031   15       1       0.240057                1           0   \n",
       "40032     49032   34       0      14.017818                1           1   \n",
       "40033     49033   19       0      10.083804                0           0   \n",
       "\n",
       "       SessionsPerWeek  AvgSessionDurationMinutes  Level  \\\n",
       "0                    6                        108     79   \n",
       "1                    5                        144     11   \n",
       "2                   16                        142     35   \n",
       "3                    9                         85     57   \n",
       "4                    2                        131     95   \n",
       "...                ...                        ...    ...   \n",
       "40029                4                         75     85   \n",
       "40030               19                        114     71   \n",
       "40031               10                        176     29   \n",
       "40032                3                        128     70   \n",
       "40033               13                         84     72   \n",
       "\n",
       "       AchievementsUnlocked  Engagement  Location_Europe  Location_Other  \\\n",
       "0                        25           1              0.0             1.0   \n",
       "1                        10           1              0.0             0.0   \n",
       "2                        41           2              0.0             0.0   \n",
       "3                        47           1              0.0             0.0   \n",
       "4                        37           1              1.0             0.0   \n",
       "...                     ...         ...              ...             ...   \n",
       "40029                    14           1              0.0             0.0   \n",
       "40030                    27           2              0.0             1.0   \n",
       "40031                     1           2              0.0             0.0   \n",
       "40032                    10           1              0.0             0.0   \n",
       "40033                    39           1              0.0             0.0   \n",
       "\n",
       "       Location_USA  Genre_RPG  Genre_Simulation  Genre_Sports  Genre_Strategy  \n",
       "0               0.0        0.0               0.0           0.0             1.0  \n",
       "1               1.0        0.0               0.0           0.0             1.0  \n",
       "2               1.0        0.0               0.0           1.0             0.0  \n",
       "3               1.0        0.0               0.0           0.0             0.0  \n",
       "4               0.0        0.0               0.0           0.0             0.0  \n",
       "...             ...        ...               ...           ...             ...  \n",
       "40029           1.0        0.0               0.0           0.0             1.0  \n",
       "40030           0.0        0.0               1.0           0.0             0.0  \n",
       "40031           1.0        1.0               0.0           0.0             0.0  \n",
       "40032           1.0        0.0               0.0           1.0             0.0  \n",
       "40033           1.0        0.0               0.0           1.0             0.0  \n",
       "\n",
       "[40034 rows x 18 columns]"
      ]
     },
     "execution_count": 126,
     "metadata": {},
     "output_type": "execute_result"
    }
   ],
   "source": [
    "df = pd.concat([df.drop(['Location', 'Genre'],axis=1),X_nom],axis=1)\n",
    "df"
   ]
  },
  {
   "cell_type": "code",
   "execution_count": 127,
   "id": "79a0757c-6fe8-4ca7-b03d-2e6e1b593745",
   "metadata": {},
   "outputs": [
    {
     "data": {
      "text/plain": [
       "Engagement                   1.000000\n",
       "SessionsPerWeek              0.605996\n",
       "AvgSessionDurationMinutes    0.476698\n",
       "AchievementsUnlocked         0.060576\n",
       "Level                        0.059315\n",
       "InGamePurchases              0.008209\n",
       "Genre_Strategy               0.007700\n",
       "Difficulty                   0.005057\n",
       "Female                       0.004978\n",
       "Location_USA                 0.002499\n",
       "Genre_Simulation             0.001184\n",
       "Age                          0.000824\n",
       "Genre_Sports                 0.000572\n",
       "PlayTimeHours               -0.001849\n",
       "Location_Other              -0.003174\n",
       "Location_Europe             -0.005965\n",
       "Genre_RPG                   -0.009707\n",
       "Name: Engagement, dtype: float64"
      ]
     },
     "execution_count": 127,
     "metadata": {},
     "output_type": "execute_result"
    }
   ],
   "source": [
    "corr = df.drop('PlayerID',axis=1).corr()\n",
    "corr['Engagement'].sort_values(ascending=False)"
   ]
  },
  {
   "cell_type": "code",
   "execution_count": 128,
   "id": "01ff32a7-f177-4164-9b92-6673e2d201fe",
   "metadata": {},
   "outputs": [
    {
     "data": {
      "image/png": "[encoded data removed]",
      "text/plain": [
       "<Figure size 640x480 with 2 Axes>"
      ]
     },
     "metadata": {},
     "output_type": "display_data"
    }
   ],
   "source": [
    "sns.heatmap(corr);"
   ]
  },
  {
   "cell_type": "markdown",
   "id": "f6a322ee-d572-4739-8956-7290d96ea127",
   "metadata": {},
   "source": [
    "It seems like the best features that correlate the most with engagement are Sessions per Week and Avg Session Duration in Minutes, which makes a lot of sense."
   ]
  },
  {
   "cell_type": "code",
   "execution_count": 129,
   "id": "2c2a2806-6ddb-48cb-ac3e-d69409c4e78d",
   "metadata": {},
   "outputs": [],
   "source": [
    "X = df.drop(['PlayerID','Engagement'], axis=1)\n",
    "y = df['Engagement']\n",
    "X_train, X_test, y_train, y_test = train_test_split(X, y, test_size=0.25, random_state=19)"
   ]
  },
  {
   "cell_type": "code",
   "execution_count": 130,
   "id": "711f588f-2d22-4fea-ac41-f9d0267d41c0",
   "metadata": {},
   "outputs": [],
   "source": [
    "scaler_allfeats = StandardScaler()\n",
    "X_train_scaled = scaler_allfeats.fit_transform(X_train)\n",
    "X_test_scaled = scaler_allfeats.transform(X_test)"
   ]
  },
  {
   "cell_type": "markdown",
   "id": "be536ddb-ab3e-4023-9ba6-ca687b5c9726",
   "metadata": {},
   "source": [
    "# Baseline Model - Logistic regression with all features"
   ]
  },
  {
   "cell_type": "markdown",
   "id": "0effbb53-5955-4fc8-b6a7-685c366979bd",
   "metadata": {},
   "source": [
    "In our first Baseline Model using Logistic Regression on our features "
   ]
  },
  {
   "cell_type": "code",
   "execution_count": 131,
   "id": "10342e75-d4ca-4cd4-befc-94747522532b",
   "metadata": {},
   "outputs": [],
   "source": [
    "logreg_baseline = LogisticRegression(penalty=None,random_state=19,class_weight='balanced')"
   ]
  },
  {
   "cell_type": "code",
   "execution_count": 132,
   "id": "63707388-5dbb-4a70-b50d-53151e7d3436",
   "metadata": {},
   "outputs": [
    {
     "data": {
      "text/html": [
       "<style>#sk-container-id-15 {color: black;}#sk-container-id-15 pre{padding: 0;}#sk-container-id-15 div.sk-toggleable {background-color: white;}#sk-container-id-15 label.sk-toggleable__label {cursor: pointer;display: block;width: 100%;margin-bottom: 0;padding: 0.3em;box-sizing: border-box;text-align: center;}#sk-container-id-15 label.sk-toggleable__label-arrow:before {content: \"▸\";float: left;margin-right: 0.25em;color: #696969;}#sk-container-id-15 label.sk-toggleable__label-arrow:hover:before {color: black;}#sk-container-id-15 div.sk-estimator:hover label.sk-toggleable__label-arrow:before {color: black;}#sk-container-id-15 div.sk-toggleable__content {max-height: 0;max-width: 0;overflow: hidden;text-align: left;background-color: #f0f8ff;}#sk-container-id-15 div.sk-toggleable__content pre {margin: 0.2em;color: black;border-radius: 0.25em;background-color: #f0f8ff;}#sk-container-id-15 input.sk-toggleable__control:checked~div.sk-toggleable__content {max-height: 200px;max-width: 100%;overflow: auto;}#sk-container-id-15 input.sk-toggleable__control:checked~label.sk-toggleable__label-arrow:before {content: \"▾\";}#sk-container-id-15 div.sk-estimator input.sk-toggleable__control:checked~label.sk-toggleable__label {background-color: #d4ebff;}#sk-container-id-15 div.sk-label input.sk-toggleable__control:checked~label.sk-toggleable__label {background-color: #d4ebff;}#sk-container-id-15 input.sk-hidden--visually {border: 0;clip: rect(1px 1px 1px 1px);clip: rect(1px, 1px, 1px, 1px);height: 1px;margin: -1px;overflow: hidden;padding: 0;position: absolute;width: 1px;}#sk-container-id-15 div.sk-estimator {font-family: monospace;background-color: #f0f8ff;border: 1px dotted black;border-radius: 0.25em;box-sizing: border-box;margin-bottom: 0.5em;}#sk-container-id-15 div.sk-estimator:hover {background-color: #d4ebff;}#sk-container-id-15 div.sk-parallel-item::after {content: \"\";width: 100%;border-bottom: 1px solid gray;flex-grow: 1;}#sk-container-id-15 div.sk-label:hover label.sk-toggleable__label {background-color: #d4ebff;}#sk-container-id-15 div.sk-serial::before {content: \"\";position: absolute;border-left: 1px solid gray;box-sizing: border-box;top: 0;bottom: 0;left: 50%;z-index: 0;}#sk-container-id-15 div.sk-serial {display: flex;flex-direction: column;align-items: center;background-color: white;padding-right: 0.2em;padding-left: 0.2em;position: relative;}#sk-container-id-15 div.sk-item {position: relative;z-index: 1;}#sk-container-id-15 div.sk-parallel {display: flex;align-items: stretch;justify-content: center;background-color: white;position: relative;}#sk-container-id-15 div.sk-item::before, #sk-container-id-15 div.sk-parallel-item::before {content: \"\";position: absolute;border-left: 1px solid gray;box-sizing: border-box;top: 0;bottom: 0;left: 50%;z-index: -1;}#sk-container-id-15 div.sk-parallel-item {display: flex;flex-direction: column;z-index: 1;position: relative;background-color: white;}#sk-container-id-15 div.sk-parallel-item:first-child::after {align-self: flex-end;width: 50%;}#sk-container-id-15 div.sk-parallel-item:last-child::after {align-self: flex-start;width: 50%;}#sk-container-id-15 div.sk-parallel-item:only-child::after {width: 0;}#sk-container-id-15 div.sk-dashed-wrapped {border: 1px dashed gray;margin: 0 0.4em 0.5em 0.4em;box-sizing: border-box;padding-bottom: 0.4em;background-color: white;}#sk-container-id-15 div.sk-label label {font-family: monospace;font-weight: bold;display: inline-block;line-height: 1.2em;}#sk-container-id-15 div.sk-label-container {text-align: center;}#sk-container-id-15 div.sk-container {/* jupyter's `normalize.less` sets `[hidden] { display: none; }` but bootstrap.min.css set `[hidden] { display: none !important; }` so we also need the `!important` here to be able to override the default hidden behavior on the sphinx rendered scikit-learn.org. See: https://github.com/scikit-learn/scikit-learn/issues/21755 */display: inline-block !important;position: relative;}#sk-container-id-15 div.sk-text-repr-fallback {display: none;}</style><div id=\"sk-container-id-15\" class=\"sk-top-container\"><div class=\"sk-text-repr-fallback\"><pre>LogisticRegression(class_weight=&#x27;balanced&#x27;, penalty=None, random_state=19)</pre><b>In a Jupyter environment, please rerun this cell to show the HTML representation or trust the notebook. <br />On GitHub, the HTML representation is unable to render, please try loading this page with nbviewer.org.</b></div><div class=\"sk-container\" hidden><div class=\"sk-item\"><div class=\"sk-estimator sk-toggleable\"><input class=\"sk-toggleable__control sk-hidden--visually\" id=\"sk-estimator-id-19\" type=\"checkbox\" checked><label for=\"sk-estimator-id-19\" class=\"sk-toggleable__label sk-toggleable__label-arrow\">LogisticRegression</label><div class=\"sk-toggleable__content\"><pre>LogisticRegression(class_weight=&#x27;balanced&#x27;, penalty=None, random_state=19)</pre></div></div></div></div></div>"
      ],
      "text/plain": [
       "LogisticRegression(class_weight='balanced', penalty=None, random_state=19)"
      ]
     },
     "execution_count": 132,
     "metadata": {},
     "output_type": "execute_result"
    }
   ],
   "source": [
    "logreg_baseline.fit(X_train_scaled,y_train)"
   ]
  },
  {
   "cell_type": "code",
   "execution_count": 133,
   "id": "775c2388-ff31-4e7e-b999-6d968ffdbeb9",
   "metadata": {},
   "outputs": [
    {
     "data": {
      "text/plain": [
       "0.7876103247293922"
      ]
     },
     "execution_count": 133,
     "metadata": {},
     "output_type": "execute_result"
    }
   ],
   "source": [
    "logreg_baseline.score(X_train_scaled,y_train)"
   ]
  },
  {
   "cell_type": "code",
   "execution_count": 134,
   "id": "9716c0e4-8420-48e7-b113-16b7e4886cec",
   "metadata": {},
   "outputs": [],
   "source": [
    "y_baseline = logreg_baseline.predict(X_test_scaled)"
   ]
  },
  {
   "cell_type": "code",
   "execution_count": 135,
   "id": "9e1f5cfe-53d4-4862-955d-6fdc3c259b21",
   "metadata": {},
   "outputs": [
    {
     "data": {
      "text/plain": [
       "0.7876103247293922"
      ]
     },
     "execution_count": 135,
     "metadata": {},
     "output_type": "execute_result"
    }
   ],
   "source": [
    "logreg_baseline.score(X_train_scaled,y_train)"
   ]
  },
  {
   "cell_type": "code",
   "execution_count": 136,
   "id": "19352472-223d-44eb-9a83-fa88608d0cdd",
   "metadata": {},
   "outputs": [
    {
     "data": {
      "text/plain": [
       "<sklearn.metrics._plot.confusion_matrix.ConfusionMatrixDisplay at 0x706c2ba79880>"
      ]
     },
     "execution_count": 136,
     "metadata": {},
     "output_type": "execute_result"
    },
    {
     "data": {
      "image/png": "[encoded data removed]",
      "text/plain": [
       "<Figure size 640x480 with 2 Axes>"
      ]
     },
     "metadata": {},
     "output_type": "display_data"
    }
   ],
   "source": [
    "ConfusionMatrixDisplay.from_estimator(logreg_baseline,X_test_scaled,y_test)"
   ]
  },
  {
   "cell_type": "code",
   "execution_count": 137,
   "id": "038017ca-a234-4781-a96f-0265e2feac21",
   "metadata": {},
   "outputs": [
    {
     "data": {
      "text/plain": [
       "(0.7884903586771905,\n",
       " array([0.81216112, 0.71422706, 0.90610329]),\n",
       " array([0.68128655, 0.86736475, 0.79315068]),\n",
       " array([0.7409894 , 0.78338212, 0.8458729 ]))"
      ]
     },
     "execution_count": 137,
     "metadata": {},
     "output_type": "execute_result"
    }
   ],
   "source": [
    "accuracy_baseline, recall_baseline, precision_baseline, f1_baseline = accuracy_score(y_test,y_baseline), \\\n",
    "                                                                          recall_score(y_test,y_baseline,average=None), \\\n",
    "                                                                          precision_score(y_test,y_baseline,average=None),\\\n",
    "                                                                          f1_score(y_test,y_baseline,average=None)\n",
    "accuracy_baseline, recall_baseline, precision_baseline, f1_baseline"
   ]
  },
  {
   "cell_type": "markdown",
   "id": "8dca94a3-920b-458b-8f43-3cd76a7190f3",
   "metadata": {},
   "source": [
    "# Model 2 - Logistic Regression with only the most correlated features"
   ]
  },
  {
   "cell_type": "code",
   "execution_count": 138,
   "id": "c62c7ae6-b8c4-4921-9a7a-62acd2f4f1d4",
   "metadata": {},
   "outputs": [],
   "source": [
    "logreg_bestfeats = LogisticRegression(penalty=None,random_state=19,class_weight='balanced')"
   ]
  },
  {
   "cell_type": "code",
   "execution_count": 139,
   "id": "88574de8-2b1e-4c2c-98a1-069115f9fa97",
   "metadata": {},
   "outputs": [],
   "source": [
    "X_train_bestfeats, X_test_bestfeats, y_train, y_test = train_test_split(X[['SessionsPerWeek','AvgSessionDurationMinutes']], y, test_size=0.25, random_state=19)"
   ]
  },
  {
   "cell_type": "code",
   "execution_count": 140,
   "id": "9d53f80d-658e-4be2-bb01-7866aaf01c65",
   "metadata": {},
   "outputs": [],
   "source": [
    "scaler_bestfeats = StandardScaler()\n",
    "X_train_bestfeats_scaled_2 = scaler_bestfeats.fit_transform(X_train_bestfeats)\n",
    "X_test_bestfeats_scaled_2 = scaler_bestfeats.transform(X_test_bestfeats)"
   ]
  },
  {
   "cell_type": "code",
   "execution_count": 141,
   "id": "dd998590-3fb7-435c-bb71-0a028ebfa0a9",
   "metadata": {},
   "outputs": [
    {
     "data": {
      "text/html": [
       "<style>#sk-container-id-16 {color: black;}#sk-container-id-16 pre{padding: 0;}#sk-container-id-16 div.sk-toggleable {background-color: white;}#sk-container-id-16 label.sk-toggleable__label {cursor: pointer;display: block;width: 100%;margin-bottom: 0;padding: 0.3em;box-sizing: border-box;text-align: center;}#sk-container-id-16 label.sk-toggleable__label-arrow:before {content: \"▸\";float: left;margin-right: 0.25em;color: #696969;}#sk-container-id-16 label.sk-toggleable__label-arrow:hover:before {color: black;}#sk-container-id-16 div.sk-estimator:hover label.sk-toggleable__label-arrow:before {color: black;}#sk-container-id-16 div.sk-toggleable__content {max-height: 0;max-width: 0;overflow: hidden;text-align: left;background-color: #f0f8ff;}#sk-container-id-16 div.sk-toggleable__content pre {margin: 0.2em;color: black;border-radius: 0.25em;background-color: #f0f8ff;}#sk-container-id-16 input.sk-toggleable__control:checked~div.sk-toggleable__content {max-height: 200px;max-width: 100%;overflow: auto;}#sk-container-id-16 input.sk-toggleable__control:checked~label.sk-toggleable__label-arrow:before {content: \"▾\";}#sk-container-id-16 div.sk-estimator input.sk-toggleable__control:checked~label.sk-toggleable__label {background-color: #d4ebff;}#sk-container-id-16 div.sk-label input.sk-toggleable__control:checked~label.sk-toggleable__label {background-color: #d4ebff;}#sk-container-id-16 input.sk-hidden--visually {border: 0;clip: rect(1px 1px 1px 1px);clip: rect(1px, 1px, 1px, 1px);height: 1px;margin: -1px;overflow: hidden;padding: 0;position: absolute;width: 1px;}#sk-container-id-16 div.sk-estimator {font-family: monospace;background-color: #f0f8ff;border: 1px dotted black;border-radius: 0.25em;box-sizing: border-box;margin-bottom: 0.5em;}#sk-container-id-16 div.sk-estimator:hover {background-color: #d4ebff;}#sk-container-id-16 div.sk-parallel-item::after {content: \"\";width: 100%;border-bottom: 1px solid gray;flex-grow: 1;}#sk-container-id-16 div.sk-label:hover label.sk-toggleable__label {background-color: #d4ebff;}#sk-container-id-16 div.sk-serial::before {content: \"\";position: absolute;border-left: 1px solid gray;box-sizing: border-box;top: 0;bottom: 0;left: 50%;z-index: 0;}#sk-container-id-16 div.sk-serial {display: flex;flex-direction: column;align-items: center;background-color: white;padding-right: 0.2em;padding-left: 0.2em;position: relative;}#sk-container-id-16 div.sk-item {position: relative;z-index: 1;}#sk-container-id-16 div.sk-parallel {display: flex;align-items: stretch;justify-content: center;background-color: white;position: relative;}#sk-container-id-16 div.sk-item::before, #sk-container-id-16 div.sk-parallel-item::before {content: \"\";position: absolute;border-left: 1px solid gray;box-sizing: border-box;top: 0;bottom: 0;left: 50%;z-index: -1;}#sk-container-id-16 div.sk-parallel-item {display: flex;flex-direction: column;z-index: 1;position: relative;background-color: white;}#sk-container-id-16 div.sk-parallel-item:first-child::after {align-self: flex-end;width: 50%;}#sk-container-id-16 div.sk-parallel-item:last-child::after {align-self: flex-start;width: 50%;}#sk-container-id-16 div.sk-parallel-item:only-child::after {width: 0;}#sk-container-id-16 div.sk-dashed-wrapped {border: 1px dashed gray;margin: 0 0.4em 0.5em 0.4em;box-sizing: border-box;padding-bottom: 0.4em;background-color: white;}#sk-container-id-16 div.sk-label label {font-family: monospace;font-weight: bold;display: inline-block;line-height: 1.2em;}#sk-container-id-16 div.sk-label-container {text-align: center;}#sk-container-id-16 div.sk-container {/* jupyter's `normalize.less` sets `[hidden] { display: none; }` but bootstrap.min.css set `[hidden] { display: none !important; }` so we also need the `!important` here to be able to override the default hidden behavior on the sphinx rendered scikit-learn.org. See: https://github.com/scikit-learn/scikit-learn/issues/21755 */display: inline-block !important;position: relative;}#sk-container-id-16 div.sk-text-repr-fallback {display: none;}</style><div id=\"sk-container-id-16\" class=\"sk-top-container\"><div class=\"sk-text-repr-fallback\"><pre>LogisticRegression(class_weight=&#x27;balanced&#x27;, penalty=None, random_state=19)</pre><b>In a Jupyter environment, please rerun this cell to show the HTML representation or trust the notebook. <br />On GitHub, the HTML representation is unable to render, please try loading this page with nbviewer.org.</b></div><div class=\"sk-container\" hidden><div class=\"sk-item\"><div class=\"sk-estimator sk-toggleable\"><input class=\"sk-toggleable__control sk-hidden--visually\" id=\"sk-estimator-id-20\" type=\"checkbox\" checked><label for=\"sk-estimator-id-20\" class=\"sk-toggleable__label sk-toggleable__label-arrow\">LogisticRegression</label><div class=\"sk-toggleable__content\"><pre>LogisticRegression(class_weight=&#x27;balanced&#x27;, penalty=None, random_state=19)</pre></div></div></div></div></div>"
      ],
      "text/plain": [
       "LogisticRegression(class_weight='balanced', penalty=None, random_state=19)"
      ]
     },
     "execution_count": 141,
     "metadata": {},
     "output_type": "execute_result"
    }
   ],
   "source": [
    "logreg_bestfeats.fit(X_train_bestfeats_scaled_2,y_train)"
   ]
  },
  {
   "cell_type": "code",
   "execution_count": 142,
   "id": "6298a1e5-8b1f-49fb-9a0a-ffe11627163f",
   "metadata": {},
   "outputs": [
    {
     "data": {
      "text/plain": [
       "0.778684429641965"
      ]
     },
     "execution_count": 142,
     "metadata": {},
     "output_type": "execute_result"
    }
   ],
   "source": [
    "logreg_bestfeats.score(X_train_bestfeats_scaled_2,y_train)"
   ]
  },
  {
   "cell_type": "code",
   "execution_count": 143,
   "id": "e3f2b4c4-f569-4463-add7-076776befe83",
   "metadata": {},
   "outputs": [],
   "source": [
    "y_bestfeats = logreg_bestfeats.predict(X_test_bestfeats_scaled_2)"
   ]
  },
  {
   "cell_type": "code",
   "execution_count": 144,
   "id": "825aa164-ea59-4b40-8c6b-e2d69138bebd",
   "metadata": {},
   "outputs": [
    {
     "data": {
      "text/plain": [
       "<sklearn.metrics._plot.confusion_matrix.ConfusionMatrixDisplay at 0x706c2b48b280>"
      ]
     },
     "execution_count": 144,
     "metadata": {},
     "output_type": "execute_result"
    },
    {
     "data": {
      "image/png": "[encoded data removed]",
      "text/plain": [
       "<Figure size 640x480 with 2 Axes>"
      ]
     },
     "metadata": {},
     "output_type": "display_data"
    }
   ],
   "source": [
    "ConfusionMatrixDisplay.from_estimator(logreg_bestfeats,X_test_bestfeats_scaled_2,y_test)"
   ]
  },
  {
   "cell_type": "code",
   "execution_count": 145,
   "id": "a171b3e5-846b-4a12-9bdc-4c2cf14b383d",
   "metadata": {},
   "outputs": [
    {
     "data": {
      "text/plain": [
       "(0.7760015985612948,\n",
       " array([0.79783114, 0.699651  , 0.89945227]),\n",
       " array([0.66280566, 0.85477803, 0.7889499 ]),\n",
       " array([0.72407733, 0.76947392, 0.84058501]))"
      ]
     },
     "execution_count": 145,
     "metadata": {},
     "output_type": "execute_result"
    }
   ],
   "source": [
    "accuracy_bestfeats, recall_bestfeats, precision_bestfeats, f1_bestfeats = accuracy_score(y_test,y_bestfeats), \\\n",
    "                                                                          recall_score(y_test,y_bestfeats,average=None), \\\n",
    "                                                                          precision_score(y_test,y_bestfeats,average=None),\\\n",
    "                                                                          f1_score(y_test,y_bestfeats,average=None)\n",
    "accuracy_bestfeats, recall_bestfeats ,precision_bestfeats, f1_bestfeats"
   ]
  },
  {
   "cell_type": "markdown",
   "id": "47a3feaf-7e5b-477d-870b-29974ad357b7",
   "metadata": {},
   "source": [
    "# Model 3 - Decision Tree Classifier"
   ]
  },
  {
   "cell_type": "code",
   "execution_count": 146,
   "id": "a5d98028-aa61-42b5-adc9-351cd6220e71",
   "metadata": {},
   "outputs": [],
   "source": [
    "dtc_notuning = DecisionTreeClassifier(random_state=19,class_weight='balanced')"
   ]
  },
  {
   "cell_type": "code",
   "execution_count": 147,
   "id": "8a3b4a8e-df11-4bd7-9bac-1040f11d21c6",
   "metadata": {},
   "outputs": [
    {
     "data": {
      "text/html": [
       "<style>#sk-container-id-17 {color: black;}#sk-container-id-17 pre{padding: 0;}#sk-container-id-17 div.sk-toggleable {background-color: white;}#sk-container-id-17 label.sk-toggleable__label {cursor: pointer;display: block;width: 100%;margin-bottom: 0;padding: 0.3em;box-sizing: border-box;text-align: center;}#sk-container-id-17 label.sk-toggleable__label-arrow:before {content: \"▸\";float: left;margin-right: 0.25em;color: #696969;}#sk-container-id-17 label.sk-toggleable__label-arrow:hover:before {color: black;}#sk-container-id-17 div.sk-estimator:hover label.sk-toggleable__label-arrow:before {color: black;}#sk-container-id-17 div.sk-toggleable__content {max-height: 0;max-width: 0;overflow: hidden;text-align: left;background-color: #f0f8ff;}#sk-container-id-17 div.sk-toggleable__content pre {margin: 0.2em;color: black;border-radius: 0.25em;background-color: #f0f8ff;}#sk-container-id-17 input.sk-toggleable__control:checked~div.sk-toggleable__content {max-height: 200px;max-width: 100%;overflow: auto;}#sk-container-id-17 input.sk-toggleable__control:checked~label.sk-toggleable__label-arrow:before {content: \"▾\";}#sk-container-id-17 div.sk-estimator input.sk-toggleable__control:checked~label.sk-toggleable__label {background-color: #d4ebff;}#sk-container-id-17 div.sk-label input.sk-toggleable__control:checked~label.sk-toggleable__label {background-color: #d4ebff;}#sk-container-id-17 input.sk-hidden--visually {border: 0;clip: rect(1px 1px 1px 1px);clip: rect(1px, 1px, 1px, 1px);height: 1px;margin: -1px;overflow: hidden;padding: 0;position: absolute;width: 1px;}#sk-container-id-17 div.sk-estimator {font-family: monospace;background-color: #f0f8ff;border: 1px dotted black;border-radius: 0.25em;box-sizing: border-box;margin-bottom: 0.5em;}#sk-container-id-17 div.sk-estimator:hover {background-color: #d4ebff;}#sk-container-id-17 div.sk-parallel-item::after {content: \"\";width: 100%;border-bottom: 1px solid gray;flex-grow: 1;}#sk-container-id-17 div.sk-label:hover label.sk-toggleable__label {background-color: #d4ebff;}#sk-container-id-17 div.sk-serial::before {content: \"\";position: absolute;border-left: 1px solid gray;box-sizing: border-box;top: 0;bottom: 0;left: 50%;z-index: 0;}#sk-container-id-17 div.sk-serial {display: flex;flex-direction: column;align-items: center;background-color: white;padding-right: 0.2em;padding-left: 0.2em;position: relative;}#sk-container-id-17 div.sk-item {position: relative;z-index: 1;}#sk-container-id-17 div.sk-parallel {display: flex;align-items: stretch;justify-content: center;background-color: white;position: relative;}#sk-container-id-17 div.sk-item::before, #sk-container-id-17 div.sk-parallel-item::before {content: \"\";position: absolute;border-left: 1px solid gray;box-sizing: border-box;top: 0;bottom: 0;left: 50%;z-index: -1;}#sk-container-id-17 div.sk-parallel-item {display: flex;flex-direction: column;z-index: 1;position: relative;background-color: white;}#sk-container-id-17 div.sk-parallel-item:first-child::after {align-self: flex-end;width: 50%;}#sk-container-id-17 div.sk-parallel-item:last-child::after {align-self: flex-start;width: 50%;}#sk-container-id-17 div.sk-parallel-item:only-child::after {width: 0;}#sk-container-id-17 div.sk-dashed-wrapped {border: 1px dashed gray;margin: 0 0.4em 0.5em 0.4em;box-sizing: border-box;padding-bottom: 0.4em;background-color: white;}#sk-container-id-17 div.sk-label label {font-family: monospace;font-weight: bold;display: inline-block;line-height: 1.2em;}#sk-container-id-17 div.sk-label-container {text-align: center;}#sk-container-id-17 div.sk-container {/* jupyter's `normalize.less` sets `[hidden] { display: none; }` but bootstrap.min.css set `[hidden] { display: none !important; }` so we also need the `!important` here to be able to override the default hidden behavior on the sphinx rendered scikit-learn.org. See: https://github.com/scikit-learn/scikit-learn/issues/21755 */display: inline-block !important;position: relative;}#sk-container-id-17 div.sk-text-repr-fallback {display: none;}</style><div id=\"sk-container-id-17\" class=\"sk-top-container\"><div class=\"sk-text-repr-fallback\"><pre>DecisionTreeClassifier(class_weight=&#x27;balanced&#x27;, random_state=19)</pre><b>In a Jupyter environment, please rerun this cell to show the HTML representation or trust the notebook. <br />On GitHub, the HTML representation is unable to render, please try loading this page with nbviewer.org.</b></div><div class=\"sk-container\" hidden><div class=\"sk-item\"><div class=\"sk-estimator sk-toggleable\"><input class=\"sk-toggleable__control sk-hidden--visually\" id=\"sk-estimator-id-21\" type=\"checkbox\" checked><label for=\"sk-estimator-id-21\" class=\"sk-toggleable__label sk-toggleable__label-arrow\">DecisionTreeClassifier</label><div class=\"sk-toggleable__content\"><pre>DecisionTreeClassifier(class_weight=&#x27;balanced&#x27;, random_state=19)</pre></div></div></div></div></div>"
      ],
      "text/plain": [
       "DecisionTreeClassifier(class_weight='balanced', random_state=19)"
      ]
     },
     "execution_count": 147,
     "metadata": {},
     "output_type": "execute_result"
    }
   ],
   "source": [
    "dtc_notuning.fit(X_train_scaled,y_train)"
   ]
  },
  {
   "cell_type": "code",
   "execution_count": 148,
   "id": "b9f17732-f240-4124-b7c2-a0bb0d95bacf",
   "metadata": {},
   "outputs": [
    {
     "data": {
      "text/plain": [
       "1.0"
      ]
     },
     "execution_count": 148,
     "metadata": {},
     "output_type": "execute_result"
    }
   ],
   "source": [
    "dtc_notuning.score(X_train_scaled,y_train)"
   ]
  },
  {
   "cell_type": "code",
   "execution_count": 149,
   "id": "23eed35c-a142-488f-9ced-283cb4138810",
   "metadata": {},
   "outputs": [],
   "source": [
    "y_dtc = dtc_notuning.predict(X_test_scaled)"
   ]
  },
  {
   "cell_type": "code",
   "execution_count": 150,
   "id": "835f21d1-c666-40b0-bb80-2188e93db15c",
   "metadata": {},
   "outputs": [
    {
     "data": {
      "text/plain": [
       "<sklearn.metrics._plot.confusion_matrix.ConfusionMatrixDisplay at 0x706c2b7e0b80>"
      ]
     },
     "execution_count": 150,
     "metadata": {},
     "output_type": "execute_result"
    },
    {
     "data": {
      "image/png": "[encoded data removed]",
      "text/plain": [
       "<Figure size 640x480 with 2 Axes>"
      ]
     },
     "metadata": {},
     "output_type": "display_data"
    }
   ],
   "source": [
    "ConfusionMatrixDisplay.from_estimator(dtc_notuning,X_test_scaled,y_test)"
   ]
  },
  {
   "cell_type": "code",
   "execution_count": 151,
   "id": "3305296d-d592-4d55-8603-c35aad5961dd",
   "metadata": {},
   "outputs": [
    {
     "data": {
      "text/plain": [
       "(0.8354480967129584,\n",
       " array([0.802866  , 0.86121946, 0.81924883]),\n",
       " array([0.80069525, 0.86943005, 0.80693642]),\n",
       " array([0.80177915, 0.86530528, 0.81304601]))"
      ]
     },
     "execution_count": 151,
     "metadata": {},
     "output_type": "execute_result"
    }
   ],
   "source": [
    "accuracy_dtc, recall_dtc, precision_dtc, f1_dtc = accuracy_score(y_test,y_dtc), \\\n",
    "                                                                          recall_score(y_test,y_dtc,average=None), \\\n",
    "                                                                          precision_score(y_test,y_dtc,average=None),\\\n",
    "                                                                          f1_score(y_test,y_dtc,average=None)\n",
    "accuracy_dtc, recall_dtc ,precision_dtc, f1_dtc"
   ]
  },
  {
   "cell_type": "markdown",
   "id": "f54e3603-e946-4615-83d4-a440115ab804",
   "metadata": {},
   "source": [
    "## Using Decision Tree as a Feature Selector"
   ]
  },
  {
   "cell_type": "code",
   "execution_count": 152,
   "id": "ebd1d9f3-11aa-4a33-a1f1-f2ef83dcb57b",
   "metadata": {},
   "outputs": [
    {
     "data": {
      "text/plain": [
       "{'AvgSessionDurationMinutes': 0.40013997192889944,\n",
       " 'SessionsPerWeek': 0.3605432859279194,\n",
       " 'Level': 0.06120631978372876,\n",
       " 'AchievementsUnlocked': 0.05480127758729497,\n",
       " 'PlayTimeHours': 0.04620996153623873,\n",
       " 'Age': 0.02884475781152879,\n",
       " 'Difficulty': 0.008046408001127891,\n",
       " 'Genre_Sports': 0.006379291141852032,\n",
       " 'InGamePurchases': 0.005355635824667986,\n",
       " 'Female': 0.004602899225987807,\n",
       " 'Location_Europe': 0.004446415478437927,\n",
       " 'Location_USA': 0.0044005395750788025,\n",
       " 'Genre_RPG': 0.004224751807311071,\n",
       " 'Location_Other': 0.004024611703580356,\n",
       " 'Genre_Simulation': 0.003613956567003885,\n",
       " 'Genre_Strategy': 0.0031599160993421305}"
      ]
     },
     "execution_count": 152,
     "metadata": {},
     "output_type": "execute_result"
    }
   ],
   "source": [
    "feature_used = X_train.columns\n",
    "dict_feat_importance = {}\n",
    "for fi, feature in zip(dtc_notuning.feature_importances_, feature_used):\n",
    "    dict_feat_importance[feature] = fi\n",
    "\n",
    "dict_feat_importance = dict(sorted(dict_feat_importance.items(), key=lambda item:item[1],reverse=True))\n",
    "dict_feat_importance"
   ]
  },
  {
   "cell_type": "code",
   "execution_count": 153,
   "id": "60da4682-83ee-45a6-8352-84777e66eec7",
   "metadata": {},
   "outputs": [],
   "source": [
    "dtc_featselect = DecisionTreeClassifier(max_depth=1,random_state=19,class_weight='balanced')"
   ]
  },
  {
   "cell_type": "code",
   "execution_count": 154,
   "id": "22a8a109-681d-418d-a3a3-e93880621942",
   "metadata": {},
   "outputs": [
    {
     "data": {
      "text/html": [
       "<style>#sk-container-id-18 {color: black;}#sk-container-id-18 pre{padding: 0;}#sk-container-id-18 div.sk-toggleable {background-color: white;}#sk-container-id-18 label.sk-toggleable__label {cursor: pointer;display: block;width: 100%;margin-bottom: 0;padding: 0.3em;box-sizing: border-box;text-align: center;}#sk-container-id-18 label.sk-toggleable__label-arrow:before {content: \"▸\";float: left;margin-right: 0.25em;color: #696969;}#sk-container-id-18 label.sk-toggleable__label-arrow:hover:before {color: black;}#sk-container-id-18 div.sk-estimator:hover label.sk-toggleable__label-arrow:before {color: black;}#sk-container-id-18 div.sk-toggleable__content {max-height: 0;max-width: 0;overflow: hidden;text-align: left;background-color: #f0f8ff;}#sk-container-id-18 div.sk-toggleable__content pre {margin: 0.2em;color: black;border-radius: 0.25em;background-color: #f0f8ff;}#sk-container-id-18 input.sk-toggleable__control:checked~div.sk-toggleable__content {max-height: 200px;max-width: 100%;overflow: auto;}#sk-container-id-18 input.sk-toggleable__control:checked~label.sk-toggleable__label-arrow:before {content: \"▾\";}#sk-container-id-18 div.sk-estimator input.sk-toggleable__control:checked~label.sk-toggleable__label {background-color: #d4ebff;}#sk-container-id-18 div.sk-label input.sk-toggleable__control:checked~label.sk-toggleable__label {background-color: #d4ebff;}#sk-container-id-18 input.sk-hidden--visually {border: 0;clip: rect(1px 1px 1px 1px);clip: rect(1px, 1px, 1px, 1px);height: 1px;margin: -1px;overflow: hidden;padding: 0;position: absolute;width: 1px;}#sk-container-id-18 div.sk-estimator {font-family: monospace;background-color: #f0f8ff;border: 1px dotted black;border-radius: 0.25em;box-sizing: border-box;margin-bottom: 0.5em;}#sk-container-id-18 div.sk-estimator:hover {background-color: #d4ebff;}#sk-container-id-18 div.sk-parallel-item::after {content: \"\";width: 100%;border-bottom: 1px solid gray;flex-grow: 1;}#sk-container-id-18 div.sk-label:hover label.sk-toggleable__label {background-color: #d4ebff;}#sk-container-id-18 div.sk-serial::before {content: \"\";position: absolute;border-left: 1px solid gray;box-sizing: border-box;top: 0;bottom: 0;left: 50%;z-index: 0;}#sk-container-id-18 div.sk-serial {display: flex;flex-direction: column;align-items: center;background-color: white;padding-right: 0.2em;padding-left: 0.2em;position: relative;}#sk-container-id-18 div.sk-item {position: relative;z-index: 1;}#sk-container-id-18 div.sk-parallel {display: flex;align-items: stretch;justify-content: center;background-color: white;position: relative;}#sk-container-id-18 div.sk-item::before, #sk-container-id-18 div.sk-parallel-item::before {content: \"\";position: absolute;border-left: 1px solid gray;box-sizing: border-box;top: 0;bottom: 0;left: 50%;z-index: -1;}#sk-container-id-18 div.sk-parallel-item {display: flex;flex-direction: column;z-index: 1;position: relative;background-color: white;}#sk-container-id-18 div.sk-parallel-item:first-child::after {align-self: flex-end;width: 50%;}#sk-container-id-18 div.sk-parallel-item:last-child::after {align-self: flex-start;width: 50%;}#sk-container-id-18 div.sk-parallel-item:only-child::after {width: 0;}#sk-container-id-18 div.sk-dashed-wrapped {border: 1px dashed gray;margin: 0 0.4em 0.5em 0.4em;box-sizing: border-box;padding-bottom: 0.4em;background-color: white;}#sk-container-id-18 div.sk-label label {font-family: monospace;font-weight: bold;display: inline-block;line-height: 1.2em;}#sk-container-id-18 div.sk-label-container {text-align: center;}#sk-container-id-18 div.sk-container {/* jupyter's `normalize.less` sets `[hidden] { display: none; }` but bootstrap.min.css set `[hidden] { display: none !important; }` so we also need the `!important` here to be able to override the default hidden behavior on the sphinx rendered scikit-learn.org. See: https://github.com/scikit-learn/scikit-learn/issues/21755 */display: inline-block !important;position: relative;}#sk-container-id-18 div.sk-text-repr-fallback {display: none;}</style><div id=\"sk-container-id-18\" class=\"sk-top-container\"><div class=\"sk-text-repr-fallback\"><pre>DecisionTreeClassifier(class_weight=&#x27;balanced&#x27;, max_depth=1, random_state=19)</pre><b>In a Jupyter environment, please rerun this cell to show the HTML representation or trust the notebook. <br />On GitHub, the HTML representation is unable to render, please try loading this page with nbviewer.org.</b></div><div class=\"sk-container\" hidden><div class=\"sk-item\"><div class=\"sk-estimator sk-toggleable\"><input class=\"sk-toggleable__control sk-hidden--visually\" id=\"sk-estimator-id-22\" type=\"checkbox\" checked><label for=\"sk-estimator-id-22\" class=\"sk-toggleable__label sk-toggleable__label-arrow\">DecisionTreeClassifier</label><div class=\"sk-toggleable__content\"><pre>DecisionTreeClassifier(class_weight=&#x27;balanced&#x27;, max_depth=1, random_state=19)</pre></div></div></div></div></div>"
      ],
      "text/plain": [
       "DecisionTreeClassifier(class_weight='balanced', max_depth=1, random_state=19)"
      ]
     },
     "execution_count": 154,
     "metadata": {},
     "output_type": "execute_result"
    }
   ],
   "source": [
    "dtc_featselect.fit(X_train,y_train)"
   ]
  },
  {
   "cell_type": "code",
   "execution_count": 155,
   "id": "dd25090d-fd67-479a-9c01-a9ee29c67e6a",
   "metadata": {},
   "outputs": [
    {
     "data": {
      "image/png": "[encoded data removed]",
      "text/plain": [
       "<Figure size 1000x1000 with 1 Axes>"
      ]
     },
     "metadata": {},
     "output_type": "display_data"
    }
   ],
   "source": [
    "f, ax = plt.subplots(figsize=(10, 10))\n",
    "\n",
    "plot_tree(dtc_featselect,ax=ax);"
   ]
  },
  {
   "cell_type": "code",
   "execution_count": 156,
   "id": "317ae4d7-cfa8-4f12-86d5-df4ca0810fd7",
   "metadata": {},
   "outputs": [
    {
     "data": {
      "text/plain": [
       "'SessionsPerWeek'"
      ]
     },
     "execution_count": 156,
     "metadata": {},
     "output_type": "execute_result"
    }
   ],
   "source": [
    "X_train.columns[5]"
   ]
  },
  {
   "cell_type": "markdown",
   "id": "988d293c-7f1f-4a32-81ba-eca1bfc06e41",
   "metadata": {},
   "source": [
    "Decison tree classifier found that the most important feature to decide the engagement for a player tends to be the number of Sessions per Week. We divide the original dataset in 2 of them then and run different models for each."
   ]
  },
  {
   "cell_type": "markdown",
   "id": "41d0dfb1-2188-4a4a-8535-032b1cb919e6",
   "metadata": {},
   "source": [
    "# Model 4 - 2 Logistic Regressions on Sessions Per Week"
   ]
  },
  {
   "cell_type": "code",
   "execution_count": 157,
   "id": "ab92949f-7901-422f-9495-f86a8132158a",
   "metadata": {},
   "outputs": [
    {
     "data": {
      "text/html": [
       "<div>\n",
       "<style scoped>\n",
       "    .dataframe tbody tr th:only-of-type {\n",
       "        vertical-align: middle;\n",
       "    }\n",
       "\n",
       "    .dataframe tbody tr th {\n",
       "        vertical-align: top;\n",
       "    }\n",
       "\n",
       "    .dataframe thead th {\n",
       "        text-align: right;\n",
       "    }\n",
       "</style>\n",
       "<table border=\"1\" class=\"dataframe\">\n",
       "  <thead>\n",
       "    <tr style=\"text-align: right;\">\n",
       "      <th></th>\n",
       "      <th>PlayerID</th>\n",
       "      <th>Age</th>\n",
       "      <th>Female</th>\n",
       "      <th>PlayTimeHours</th>\n",
       "      <th>InGamePurchases</th>\n",
       "      <th>Difficulty</th>\n",
       "      <th>SessionsPerWeek</th>\n",
       "      <th>AvgSessionDurationMinutes</th>\n",
       "      <th>Level</th>\n",
       "      <th>AchievementsUnlocked</th>\n",
       "      <th>Engagement</th>\n",
       "      <th>Location_Europe</th>\n",
       "      <th>Location_Other</th>\n",
       "      <th>Location_USA</th>\n",
       "      <th>Genre_RPG</th>\n",
       "      <th>Genre_Simulation</th>\n",
       "      <th>Genre_Sports</th>\n",
       "      <th>Genre_Strategy</th>\n",
       "    </tr>\n",
       "  </thead>\n",
       "  <tbody>\n",
       "    <tr>\n",
       "      <th>0</th>\n",
       "      <td>9000</td>\n",
       "      <td>43</td>\n",
       "      <td>0</td>\n",
       "      <td>16.271119</td>\n",
       "      <td>0</td>\n",
       "      <td>1</td>\n",
       "      <td>6</td>\n",
       "      <td>108</td>\n",
       "      <td>79</td>\n",
       "      <td>25</td>\n",
       "      <td>1</td>\n",
       "      <td>0.0</td>\n",
       "      <td>1.0</td>\n",
       "      <td>0.0</td>\n",
       "      <td>0.0</td>\n",
       "      <td>0.0</td>\n",
       "      <td>0.0</td>\n",
       "      <td>1.0</td>\n",
       "    </tr>\n",
       "    <tr>\n",
       "      <th>1</th>\n",
       "      <td>9001</td>\n",
       "      <td>29</td>\n",
       "      <td>1</td>\n",
       "      <td>5.525961</td>\n",
       "      <td>0</td>\n",
       "      <td>1</td>\n",
       "      <td>5</td>\n",
       "      <td>144</td>\n",
       "      <td>11</td>\n",
       "      <td>10</td>\n",
       "      <td>1</td>\n",
       "      <td>0.0</td>\n",
       "      <td>0.0</td>\n",
       "      <td>1.0</td>\n",
       "      <td>0.0</td>\n",
       "      <td>0.0</td>\n",
       "      <td>0.0</td>\n",
       "      <td>1.0</td>\n",
       "    </tr>\n",
       "    <tr>\n",
       "      <th>2</th>\n",
       "      <td>9002</td>\n",
       "      <td>22</td>\n",
       "      <td>1</td>\n",
       "      <td>8.223755</td>\n",
       "      <td>0</td>\n",
       "      <td>0</td>\n",
       "      <td>16</td>\n",
       "      <td>142</td>\n",
       "      <td>35</td>\n",
       "      <td>41</td>\n",
       "      <td>2</td>\n",
       "      <td>0.0</td>\n",
       "      <td>0.0</td>\n",
       "      <td>1.0</td>\n",
       "      <td>0.0</td>\n",
       "      <td>0.0</td>\n",
       "      <td>1.0</td>\n",
       "      <td>0.0</td>\n",
       "    </tr>\n",
       "    <tr>\n",
       "      <th>3</th>\n",
       "      <td>9003</td>\n",
       "      <td>35</td>\n",
       "      <td>0</td>\n",
       "      <td>5.265351</td>\n",
       "      <td>1</td>\n",
       "      <td>0</td>\n",
       "      <td>9</td>\n",
       "      <td>85</td>\n",
       "      <td>57</td>\n",
       "      <td>47</td>\n",
       "      <td>1</td>\n",
       "      <td>0.0</td>\n",
       "      <td>0.0</td>\n",
       "      <td>1.0</td>\n",
       "      <td>0.0</td>\n",
       "      <td>0.0</td>\n",
       "      <td>0.0</td>\n",
       "      <td>0.0</td>\n",
       "    </tr>\n",
       "    <tr>\n",
       "      <th>4</th>\n",
       "      <td>9004</td>\n",
       "      <td>33</td>\n",
       "      <td>0</td>\n",
       "      <td>15.531945</td>\n",
       "      <td>0</td>\n",
       "      <td>1</td>\n",
       "      <td>2</td>\n",
       "      <td>131</td>\n",
       "      <td>95</td>\n",
       "      <td>37</td>\n",
       "      <td>1</td>\n",
       "      <td>1.0</td>\n",
       "      <td>0.0</td>\n",
       "      <td>0.0</td>\n",
       "      <td>0.0</td>\n",
       "      <td>0.0</td>\n",
       "      <td>0.0</td>\n",
       "      <td>0.0</td>\n",
       "    </tr>\n",
       "    <tr>\n",
       "      <th>...</th>\n",
       "      <td>...</td>\n",
       "      <td>...</td>\n",
       "      <td>...</td>\n",
       "      <td>...</td>\n",
       "      <td>...</td>\n",
       "      <td>...</td>\n",
       "      <td>...</td>\n",
       "      <td>...</td>\n",
       "      <td>...</td>\n",
       "      <td>...</td>\n",
       "      <td>...</td>\n",
       "      <td>...</td>\n",
       "      <td>...</td>\n",
       "      <td>...</td>\n",
       "      <td>...</td>\n",
       "      <td>...</td>\n",
       "      <td>...</td>\n",
       "      <td>...</td>\n",
       "    </tr>\n",
       "    <tr>\n",
       "      <th>40029</th>\n",
       "      <td>49029</td>\n",
       "      <td>32</td>\n",
       "      <td>0</td>\n",
       "      <td>20.619662</td>\n",
       "      <td>0</td>\n",
       "      <td>0</td>\n",
       "      <td>4</td>\n",
       "      <td>75</td>\n",
       "      <td>85</td>\n",
       "      <td>14</td>\n",
       "      <td>1</td>\n",
       "      <td>0.0</td>\n",
       "      <td>0.0</td>\n",
       "      <td>1.0</td>\n",
       "      <td>0.0</td>\n",
       "      <td>0.0</td>\n",
       "      <td>0.0</td>\n",
       "      <td>1.0</td>\n",
       "    </tr>\n",
       "    <tr>\n",
       "      <th>40030</th>\n",
       "      <td>49030</td>\n",
       "      <td>44</td>\n",
       "      <td>1</td>\n",
       "      <td>13.539280</td>\n",
       "      <td>0</td>\n",
       "      <td>2</td>\n",
       "      <td>19</td>\n",
       "      <td>114</td>\n",
       "      <td>71</td>\n",
       "      <td>27</td>\n",
       "      <td>2</td>\n",
       "      <td>0.0</td>\n",
       "      <td>1.0</td>\n",
       "      <td>0.0</td>\n",
       "      <td>0.0</td>\n",
       "      <td>1.0</td>\n",
       "      <td>0.0</td>\n",
       "      <td>0.0</td>\n",
       "    </tr>\n",
       "    <tr>\n",
       "      <th>40031</th>\n",
       "      <td>49031</td>\n",
       "      <td>15</td>\n",
       "      <td>1</td>\n",
       "      <td>0.240057</td>\n",
       "      <td>1</td>\n",
       "      <td>0</td>\n",
       "      <td>10</td>\n",
       "      <td>176</td>\n",
       "      <td>29</td>\n",
       "      <td>1</td>\n",
       "      <td>2</td>\n",
       "      <td>0.0</td>\n",
       "      <td>0.0</td>\n",
       "      <td>1.0</td>\n",
       "      <td>1.0</td>\n",
       "      <td>0.0</td>\n",
       "      <td>0.0</td>\n",
       "      <td>0.0</td>\n",
       "    </tr>\n",
       "    <tr>\n",
       "      <th>40032</th>\n",
       "      <td>49032</td>\n",
       "      <td>34</td>\n",
       "      <td>0</td>\n",
       "      <td>14.017818</td>\n",
       "      <td>1</td>\n",
       "      <td>1</td>\n",
       "      <td>3</td>\n",
       "      <td>128</td>\n",
       "      <td>70</td>\n",
       "      <td>10</td>\n",
       "      <td>1</td>\n",
       "      <td>0.0</td>\n",
       "      <td>0.0</td>\n",
       "      <td>1.0</td>\n",
       "      <td>0.0</td>\n",
       "      <td>0.0</td>\n",
       "      <td>1.0</td>\n",
       "      <td>0.0</td>\n",
       "    </tr>\n",
       "    <tr>\n",
       "      <th>40033</th>\n",
       "      <td>49033</td>\n",
       "      <td>19</td>\n",
       "      <td>0</td>\n",
       "      <td>10.083804</td>\n",
       "      <td>0</td>\n",
       "      <td>0</td>\n",
       "      <td>13</td>\n",
       "      <td>84</td>\n",
       "      <td>72</td>\n",
       "      <td>39</td>\n",
       "      <td>1</td>\n",
       "      <td>0.0</td>\n",
       "      <td>0.0</td>\n",
       "      <td>1.0</td>\n",
       "      <td>0.0</td>\n",
       "      <td>0.0</td>\n",
       "      <td>1.0</td>\n",
       "      <td>0.0</td>\n",
       "    </tr>\n",
       "  </tbody>\n",
       "</table>\n",
       "<p>40034 rows × 18 columns</p>\n",
       "</div>"
      ],
      "text/plain": [
       "       PlayerID  Age  Female  PlayTimeHours  InGamePurchases  Difficulty  \\\n",
       "0          9000   43       0      16.271119                0           1   \n",
       "1          9001   29       1       5.525961                0           1   \n",
       "2          9002   22       1       8.223755                0           0   \n",
       "3          9003   35       0       5.265351                1           0   \n",
       "4          9004   33       0      15.531945                0           1   \n",
       "...         ...  ...     ...            ...              ...         ...   \n",
       "40029     49029   32       0      20.619662                0           0   \n",
       "40030     49030   44       1      13.539280                0           2   \n",
       "40031     49031   15       1       0.240057                1           0   \n",
       "40032     49032   34       0      14.017818                1           1   \n",
       "40033     49033   19       0      10.083804                0           0   \n",
       "\n",
       "       SessionsPerWeek  AvgSessionDurationMinutes  Level  \\\n",
       "0                    6                        108     79   \n",
       "1                    5                        144     11   \n",
       "2                   16                        142     35   \n",
       "3                    9                         85     57   \n",
       "4                    2                        131     95   \n",
       "...                ...                        ...    ...   \n",
       "40029                4                         75     85   \n",
       "40030               19                        114     71   \n",
       "40031               10                        176     29   \n",
       "40032                3                        128     70   \n",
       "40033               13                         84     72   \n",
       "\n",
       "       AchievementsUnlocked  Engagement  Location_Europe  Location_Other  \\\n",
       "0                        25           1              0.0             1.0   \n",
       "1                        10           1              0.0             0.0   \n",
       "2                        41           2              0.0             0.0   \n",
       "3                        47           1              0.0             0.0   \n",
       "4                        37           1              1.0             0.0   \n",
       "...                     ...         ...              ...             ...   \n",
       "40029                    14           1              0.0             0.0   \n",
       "40030                    27           2              0.0             1.0   \n",
       "40031                     1           2              0.0             0.0   \n",
       "40032                    10           1              0.0             0.0   \n",
       "40033                    39           1              0.0             0.0   \n",
       "\n",
       "       Location_USA  Genre_RPG  Genre_Simulation  Genre_Sports  Genre_Strategy  \n",
       "0               0.0        0.0               0.0           0.0             1.0  \n",
       "1               1.0        0.0               0.0           0.0             1.0  \n",
       "2               1.0        0.0               0.0           1.0             0.0  \n",
       "3               1.0        0.0               0.0           0.0             0.0  \n",
       "4               0.0        0.0               0.0           0.0             0.0  \n",
       "...             ...        ...               ...           ...             ...  \n",
       "40029           1.0        0.0               0.0           0.0             1.0  \n",
       "40030           0.0        0.0               1.0           0.0             0.0  \n",
       "40031           1.0        1.0               0.0           0.0             0.0  \n",
       "40032           1.0        0.0               0.0           1.0             0.0  \n",
       "40033           1.0        0.0               0.0           1.0             0.0  \n",
       "\n",
       "[40034 rows x 18 columns]"
      ]
     },
     "execution_count": 157,
     "metadata": {},
     "output_type": "execute_result"
    }
   ],
   "source": [
    "df"
   ]
  },
  {
   "cell_type": "code",
   "execution_count": 158,
   "id": "0aad251c-c2f0-45b2-bfdb-d63e07248098",
   "metadata": {},
   "outputs": [],
   "source": [
    "X_more = df[df['SessionsPerWeek']>2.5].drop(['PlayerID','Engagement'],axis=1)\n",
    "X_less = df[df['SessionsPerWeek']<=2.5].drop(['PlayerID','Engagement'],axis=1)\n",
    "\n",
    "y1_more = df[df['SessionsPerWeek']>2.5]['Engagement']\n",
    "y2_less = df[df['SessionsPerWeek']<=2.5]['Engagement']"
   ]
  },
  {
   "cell_type": "code",
   "execution_count": 159,
   "id": "8c468bc6-e333-4ab2-add2-de0600223d59",
   "metadata": {},
   "outputs": [
    {
     "name": "stdout",
     "output_type": "stream",
     "text": [
      "Shape of X matrix with more than 2.5 sessions per week is (34069, 16) which is 0.851 of total.\n",
      "Shape of X matrix with less or equal than 2.5 sessions per week is (5965, 16) which is 0.149 of total.\n"
     ]
    }
   ],
   "source": [
    "print(f'Shape of X matrix with more than 2.5 sessions per week is {X_more.shape} which is \\\n",
    "{X_more.shape[0]/(X_more.shape[0]+X_less.shape[0]):.03f} of total.')\n",
    "print(f'Shape of X matrix with less or equal than 2.5 sessions per week is {X_less.shape} which is \\\n",
    "{X_less.shape[0]/(X_more.shape[0]+X_less.shape[0]):.03f} of total.')"
   ]
  },
  {
   "cell_type": "code",
   "execution_count": 160,
   "id": "331fff12-5105-42a7-9c8e-ec3b24921fc3",
   "metadata": {},
   "outputs": [],
   "source": [
    "X_train_more = X_train[X_train['SessionsPerWeek']>2.5]\n",
    "X_test_more = X_test[X_test['SessionsPerWeek']>2.5]\n",
    "\n",
    "X_train_less = X_train[X_train['SessionsPerWeek']<=2.5]\n",
    "X_test_less = X_test[X_test['SessionsPerWeek']<=2.5]"
   ]
  },
  {
   "cell_type": "code",
   "execution_count": 161,
   "id": "241a7888-1f01-4657-acc3-6d7331f16379",
   "metadata": {},
   "outputs": [],
   "source": [
    "y_train_more = y_train.loc[X_train_more.index]\n",
    "y_test_more = y_test.loc[X_test_more.index]\n",
    "\n",
    "y_train_less = y_train.loc[X_train_less.index]\n",
    "y_test_less = y_test.loc[X_test_less.index]"
   ]
  },
  {
   "cell_type": "code",
   "execution_count": 162,
   "id": "ffc4afe9-5e34-4163-92ac-96b18b036fbd",
   "metadata": {},
   "outputs": [],
   "source": [
    "scaler_more = StandardScaler()\n",
    "scaler_less = StandardScaler()\n",
    "\n",
    "X_train_more_scaled = scaler_more.fit_transform(X_train_more)\n",
    "X_test_more_scaled = scaler_more.transform(X_test_more)\n",
    "\n",
    "X_train_less_scaled = scaler_less.fit_transform(X_train_less)\n",
    "X_test_less_scaled = scaler_less.transform(X_test_less)"
   ]
  },
  {
   "cell_type": "code",
   "execution_count": 163,
   "id": "a80df2c8-e321-449d-9b6a-e3b5c6bd238a",
   "metadata": {},
   "outputs": [],
   "source": [
    "logreg_more = LogisticRegression(penalty=None, random_state=19, max_iter=10000)\n",
    "logreg_less = LogisticRegression(penalty=None, random_state=19, max_iter=10000)"
   ]
  },
  {
   "cell_type": "code",
   "execution_count": 164,
   "id": "0ebb8815-27e2-4562-971c-2b52c32527d2",
   "metadata": {},
   "outputs": [
    {
     "data": {
      "text/html": [
       "<style>#sk-container-id-19 {color: black;}#sk-container-id-19 pre{padding: 0;}#sk-container-id-19 div.sk-toggleable {background-color: white;}#sk-container-id-19 label.sk-toggleable__label {cursor: pointer;display: block;width: 100%;margin-bottom: 0;padding: 0.3em;box-sizing: border-box;text-align: center;}#sk-container-id-19 label.sk-toggleable__label-arrow:before {content: \"▸\";float: left;margin-right: 0.25em;color: #696969;}#sk-container-id-19 label.sk-toggleable__label-arrow:hover:before {color: black;}#sk-container-id-19 div.sk-estimator:hover label.sk-toggleable__label-arrow:before {color: black;}#sk-container-id-19 div.sk-toggleable__content {max-height: 0;max-width: 0;overflow: hidden;text-align: left;background-color: #f0f8ff;}#sk-container-id-19 div.sk-toggleable__content pre {margin: 0.2em;color: black;border-radius: 0.25em;background-color: #f0f8ff;}#sk-container-id-19 input.sk-toggleable__control:checked~div.sk-toggleable__content {max-height: 200px;max-width: 100%;overflow: auto;}#sk-container-id-19 input.sk-toggleable__control:checked~label.sk-toggleable__label-arrow:before {content: \"▾\";}#sk-container-id-19 div.sk-estimator input.sk-toggleable__control:checked~label.sk-toggleable__label {background-color: #d4ebff;}#sk-container-id-19 div.sk-label input.sk-toggleable__control:checked~label.sk-toggleable__label {background-color: #d4ebff;}#sk-container-id-19 input.sk-hidden--visually {border: 0;clip: rect(1px 1px 1px 1px);clip: rect(1px, 1px, 1px, 1px);height: 1px;margin: -1px;overflow: hidden;padding: 0;position: absolute;width: 1px;}#sk-container-id-19 div.sk-estimator {font-family: monospace;background-color: #f0f8ff;border: 1px dotted black;border-radius: 0.25em;box-sizing: border-box;margin-bottom: 0.5em;}#sk-container-id-19 div.sk-estimator:hover {background-color: #d4ebff;}#sk-container-id-19 div.sk-parallel-item::after {content: \"\";width: 100%;border-bottom: 1px solid gray;flex-grow: 1;}#sk-container-id-19 div.sk-label:hover label.sk-toggleable__label {background-color: #d4ebff;}#sk-container-id-19 div.sk-serial::before {content: \"\";position: absolute;border-left: 1px solid gray;box-sizing: border-box;top: 0;bottom: 0;left: 50%;z-index: 0;}#sk-container-id-19 div.sk-serial {display: flex;flex-direction: column;align-items: center;background-color: white;padding-right: 0.2em;padding-left: 0.2em;position: relative;}#sk-container-id-19 div.sk-item {position: relative;z-index: 1;}#sk-container-id-19 div.sk-parallel {display: flex;align-items: stretch;justify-content: center;background-color: white;position: relative;}#sk-container-id-19 div.sk-item::before, #sk-container-id-19 div.sk-parallel-item::before {content: \"\";position: absolute;border-left: 1px solid gray;box-sizing: border-box;top: 0;bottom: 0;left: 50%;z-index: -1;}#sk-container-id-19 div.sk-parallel-item {display: flex;flex-direction: column;z-index: 1;position: relative;background-color: white;}#sk-container-id-19 div.sk-parallel-item:first-child::after {align-self: flex-end;width: 50%;}#sk-container-id-19 div.sk-parallel-item:last-child::after {align-self: flex-start;width: 50%;}#sk-container-id-19 div.sk-parallel-item:only-child::after {width: 0;}#sk-container-id-19 div.sk-dashed-wrapped {border: 1px dashed gray;margin: 0 0.4em 0.5em 0.4em;box-sizing: border-box;padding-bottom: 0.4em;background-color: white;}#sk-container-id-19 div.sk-label label {font-family: monospace;font-weight: bold;display: inline-block;line-height: 1.2em;}#sk-container-id-19 div.sk-label-container {text-align: center;}#sk-container-id-19 div.sk-container {/* jupyter's `normalize.less` sets `[hidden] { display: none; }` but bootstrap.min.css set `[hidden] { display: none !important; }` so we also need the `!important` here to be able to override the default hidden behavior on the sphinx rendered scikit-learn.org. See: https://github.com/scikit-learn/scikit-learn/issues/21755 */display: inline-block !important;position: relative;}#sk-container-id-19 div.sk-text-repr-fallback {display: none;}</style><div id=\"sk-container-id-19\" class=\"sk-top-container\"><div class=\"sk-text-repr-fallback\"><pre>LogisticRegression(max_iter=10000, penalty=None, random_state=19)</pre><b>In a Jupyter environment, please rerun this cell to show the HTML representation or trust the notebook. <br />On GitHub, the HTML representation is unable to render, please try loading this page with nbviewer.org.</b></div><div class=\"sk-container\" hidden><div class=\"sk-item\"><div class=\"sk-estimator sk-toggleable\"><input class=\"sk-toggleable__control sk-hidden--visually\" id=\"sk-estimator-id-23\" type=\"checkbox\" checked><label for=\"sk-estimator-id-23\" class=\"sk-toggleable__label sk-toggleable__label-arrow\">LogisticRegression</label><div class=\"sk-toggleable__content\"><pre>LogisticRegression(max_iter=10000, penalty=None, random_state=19)</pre></div></div></div></div></div>"
      ],
      "text/plain": [
       "LogisticRegression(max_iter=10000, penalty=None, random_state=19)"
      ]
     },
     "execution_count": 164,
     "metadata": {},
     "output_type": "execute_result"
    }
   ],
   "source": [
    "logreg_more.fit(X_train_more_scaled,y_train_more)"
   ]
  },
  {
   "cell_type": "code",
   "execution_count": 165,
   "id": "65d8021b-ffe7-4d4e-a1d8-7eb3abd3e332",
   "metadata": {},
   "outputs": [
    {
     "data": {
      "text/html": [
       "<style>#sk-container-id-20 {color: black;}#sk-container-id-20 pre{padding: 0;}#sk-container-id-20 div.sk-toggleable {background-color: white;}#sk-container-id-20 label.sk-toggleable__label {cursor: pointer;display: block;width: 100%;margin-bottom: 0;padding: 0.3em;box-sizing: border-box;text-align: center;}#sk-container-id-20 label.sk-toggleable__label-arrow:before {content: \"▸\";float: left;margin-right: 0.25em;color: #696969;}#sk-container-id-20 label.sk-toggleable__label-arrow:hover:before {color: black;}#sk-container-id-20 div.sk-estimator:hover label.sk-toggleable__label-arrow:before {color: black;}#sk-container-id-20 div.sk-toggleable__content {max-height: 0;max-width: 0;overflow: hidden;text-align: left;background-color: #f0f8ff;}#sk-container-id-20 div.sk-toggleable__content pre {margin: 0.2em;color: black;border-radius: 0.25em;background-color: #f0f8ff;}#sk-container-id-20 input.sk-toggleable__control:checked~div.sk-toggleable__content {max-height: 200px;max-width: 100%;overflow: auto;}#sk-container-id-20 input.sk-toggleable__control:checked~label.sk-toggleable__label-arrow:before {content: \"▾\";}#sk-container-id-20 div.sk-estimator input.sk-toggleable__control:checked~label.sk-toggleable__label {background-color: #d4ebff;}#sk-container-id-20 div.sk-label input.sk-toggleable__control:checked~label.sk-toggleable__label {background-color: #d4ebff;}#sk-container-id-20 input.sk-hidden--visually {border: 0;clip: rect(1px 1px 1px 1px);clip: rect(1px, 1px, 1px, 1px);height: 1px;margin: -1px;overflow: hidden;padding: 0;position: absolute;width: 1px;}#sk-container-id-20 div.sk-estimator {font-family: monospace;background-color: #f0f8ff;border: 1px dotted black;border-radius: 0.25em;box-sizing: border-box;margin-bottom: 0.5em;}#sk-container-id-20 div.sk-estimator:hover {background-color: #d4ebff;}#sk-container-id-20 div.sk-parallel-item::after {content: \"\";width: 100%;border-bottom: 1px solid gray;flex-grow: 1;}#sk-container-id-20 div.sk-label:hover label.sk-toggleable__label {background-color: #d4ebff;}#sk-container-id-20 div.sk-serial::before {content: \"\";position: absolute;border-left: 1px solid gray;box-sizing: border-box;top: 0;bottom: 0;left: 50%;z-index: 0;}#sk-container-id-20 div.sk-serial {display: flex;flex-direction: column;align-items: center;background-color: white;padding-right: 0.2em;padding-left: 0.2em;position: relative;}#sk-container-id-20 div.sk-item {position: relative;z-index: 1;}#sk-container-id-20 div.sk-parallel {display: flex;align-items: stretch;justify-content: center;background-color: white;position: relative;}#sk-container-id-20 div.sk-item::before, #sk-container-id-20 div.sk-parallel-item::before {content: \"\";position: absolute;border-left: 1px solid gray;box-sizing: border-box;top: 0;bottom: 0;left: 50%;z-index: -1;}#sk-container-id-20 div.sk-parallel-item {display: flex;flex-direction: column;z-index: 1;position: relative;background-color: white;}#sk-container-id-20 div.sk-parallel-item:first-child::after {align-self: flex-end;width: 50%;}#sk-container-id-20 div.sk-parallel-item:last-child::after {align-self: flex-start;width: 50%;}#sk-container-id-20 div.sk-parallel-item:only-child::after {width: 0;}#sk-container-id-20 div.sk-dashed-wrapped {border: 1px dashed gray;margin: 0 0.4em 0.5em 0.4em;box-sizing: border-box;padding-bottom: 0.4em;background-color: white;}#sk-container-id-20 div.sk-label label {font-family: monospace;font-weight: bold;display: inline-block;line-height: 1.2em;}#sk-container-id-20 div.sk-label-container {text-align: center;}#sk-container-id-20 div.sk-container {/* jupyter's `normalize.less` sets `[hidden] { display: none; }` but bootstrap.min.css set `[hidden] { display: none !important; }` so we also need the `!important` here to be able to override the default hidden behavior on the sphinx rendered scikit-learn.org. See: https://github.com/scikit-learn/scikit-learn/issues/21755 */display: inline-block !important;position: relative;}#sk-container-id-20 div.sk-text-repr-fallback {display: none;}</style><div id=\"sk-container-id-20\" class=\"sk-top-container\"><div class=\"sk-text-repr-fallback\"><pre>LogisticRegression(max_iter=10000, penalty=None, random_state=19)</pre><b>In a Jupyter environment, please rerun this cell to show the HTML representation or trust the notebook. <br />On GitHub, the HTML representation is unable to render, please try loading this page with nbviewer.org.</b></div><div class=\"sk-container\" hidden><div class=\"sk-item\"><div class=\"sk-estimator sk-toggleable\"><input class=\"sk-toggleable__control sk-hidden--visually\" id=\"sk-estimator-id-24\" type=\"checkbox\" checked><label for=\"sk-estimator-id-24\" class=\"sk-toggleable__label sk-toggleable__label-arrow\">LogisticRegression</label><div class=\"sk-toggleable__content\"><pre>LogisticRegression(max_iter=10000, penalty=None, random_state=19)</pre></div></div></div></div></div>"
      ],
      "text/plain": [
       "LogisticRegression(max_iter=10000, penalty=None, random_state=19)"
      ]
     },
     "execution_count": 165,
     "metadata": {},
     "output_type": "execute_result"
    }
   ],
   "source": [
    "logreg_less.fit(X_train_less_scaled,y_train_less)"
   ]
  },
  {
   "cell_type": "code",
   "execution_count": 166,
   "id": "d57a78fe-c03f-4be6-8767-ce0229aeb175",
   "metadata": {},
   "outputs": [],
   "source": [
    "y_pred_more = logreg_more.predict(X_test_more_scaled)"
   ]
  },
  {
   "cell_type": "code",
   "execution_count": 167,
   "id": "3a4772ec-bd9c-49ab-905e-a60968ea34f8",
   "metadata": {},
   "outputs": [
    {
     "data": {
      "text/plain": [
       "<sklearn.metrics._plot.confusion_matrix.ConfusionMatrixDisplay at 0x706c2a3428e0>"
      ]
     },
     "execution_count": 167,
     "metadata": {},
     "output_type": "execute_result"
    },
    {
     "data": {
      "image/png": "[encoded data removed]",
      "text/plain": [
       "<Figure size 640x480 with 2 Axes>"
      ]
     },
     "metadata": {},
     "output_type": "display_data"
    }
   ],
   "source": [
    "ConfusionMatrixDisplay.from_estimator(logreg_more,X_test_more_scaled,y_test_more)"
   ]
  },
  {
   "cell_type": "code",
   "execution_count": 168,
   "id": "6aed66f0-cc3c-46df-a69a-f8621ed51583",
   "metadata": {},
   "outputs": [
    {
     "data": {
      "text/plain": [
       "(0.8624369649349126,\n",
       " array([0.60679245, 0.94378194, 0.84517159]),\n",
       " array([0.86637931, 0.84564015, 0.89821883]),\n",
       " array([0.71371505, 0.89201972, 0.87088816]))"
      ]
     },
     "execution_count": 168,
     "metadata": {},
     "output_type": "execute_result"
    }
   ],
   "source": [
    "accuracy_more, recall_more, precision_more, f1_more = accuracy_score(y_test_more,y_pred_more), \\\n",
    "                                                                          recall_score(y_test_more,y_pred_more,average=None), \\\n",
    "                                                                          precision_score(y_test_more,y_pred_more,average=None),\\\n",
    "                                                                          f1_score(y_test_more,y_pred_more,average=None)\n",
    "accuracy_more, recall_more ,precision_more, f1_more"
   ]
  },
  {
   "cell_type": "code",
   "execution_count": 169,
   "id": "be2dac06-f3ea-46f3-b7ee-8f7b781871d4",
   "metadata": {},
   "outputs": [
    {
     "name": "stderr",
     "output_type": "stream",
     "text": [
      "/home/cayke/anaconda3/envs/learn-env/lib/python3.8/site-packages/sklearn/base.py:457: UserWarning: X has feature names, but LogisticRegression was fitted without feature names\n",
      "  warnings.warn(\n"
     ]
    }
   ],
   "source": [
    "y_pred_less = logreg_less.predict(X_test_less)"
   ]
  },
  {
   "cell_type": "code",
   "execution_count": 170,
   "id": "1ef08b9c-d21f-4ec4-9995-307e49868650",
   "metadata": {},
   "outputs": [
    {
     "data": {
      "text/plain": [
       "<sklearn.metrics._plot.confusion_matrix.ConfusionMatrixDisplay at 0x706c2ba38460>"
      ]
     },
     "execution_count": 170,
     "metadata": {},
     "output_type": "execute_result"
    },
    {
     "data": {
      "image/png": "[encoded data removed]",
      "text/plain": [
       "<Figure size 640x480 with 2 Axes>"
      ]
     },
     "metadata": {},
     "output_type": "display_data"
    }
   ],
   "source": [
    "ConfusionMatrixDisplay.from_estimator(logreg_less,X_test_less_scaled,y_test_less)"
   ]
  },
  {
   "cell_type": "code",
   "execution_count": 190,
   "id": "60616c18-6c9e-4cc3-a082-1cef22f43313",
   "metadata": {},
   "outputs": [
    {
     "name": "stderr",
     "output_type": "stream",
     "text": [
      "/home/cayke/anaconda3/envs/learn-env/lib/python3.8/site-packages/sklearn/metrics/_classification.py:1469: UndefinedMetricWarning: Precision is ill-defined and being set to 0.0 in labels with no predicted samples. Use `zero_division` parameter to control this behavior.\n",
      "  _warn_prf(average, modifier, msg_start, len(result))\n"
     ]
    },
    {
     "data": {
      "text/plain": [
       "(0.11808367071524967,\n",
       " array([0., 1., 0.]),\n",
       " array([0.        , 0.11808367, 0.        ]),\n",
       " array([0.        , 0.21122511, 0.        ]))"
      ]
     },
     "execution_count": 190,
     "metadata": {},
     "output_type": "execute_result"
    }
   ],
   "source": [
    "accuracy_less, recall_less, precision_less, f1_less = accuracy_score(y_test_less,y_pred_less), \\\n",
    "                                                                          recall_score(y_test_less,y_pred_less,average=None,zero_division=0), \\\n",
    "                                                                          precision_score(y_test_less,y_pred_less,average=None),\\\n",
    "                                                                          f1_score(y_test_less,y_pred_less,average=None)\n",
    "accuracy_less, recall_less ,precision_less, f1_less"
   ]
  },
  {
   "cell_type": "code",
   "execution_count": 192,
   "id": "55129b83-5d31-4f42-a1b7-88b02c6e051f",
   "metadata": {},
   "outputs": [],
   "source": [
    "y_test_2dfs = np.concatenate([y_test_more,y_test_less])\n",
    "y_pred_2dfs = np.concatenate([y_pred_more,y_pred_less])"
   ]
  },
  {
   "cell_type": "code",
   "execution_count": 193,
   "id": "50e31ecf-fcaa-4e73-9962-f9ab0bcbe64b",
   "metadata": {},
   "outputs": [
    {
     "data": {
      "text/plain": [
       "(0.7522229993006294,\n",
       " array([0.31138652, 0.94580168, 0.8286385 ]),\n",
       " array([0.86637931, 0.68525956, 0.89821883]),\n",
       " array([0.45811966, 0.79472141, 0.86202686]))"
      ]
     },
     "execution_count": 193,
     "metadata": {},
     "output_type": "execute_result"
    }
   ],
   "source": [
    "accuracy_2dfs, recall_2dfs, precision_2dfs, f1_2dfs = accuracy_score(y_test_2dfs,y_pred_2dfs), \\\n",
    "                                                                          recall_score(y_test_2dfs,y_pred_2dfs,average=None,zero_division=0), \\\n",
    "                                                                          precision_score(y_test_2dfs,y_pred_2dfs,average=None),\\\n",
    "                                                                          f1_score(y_test_2dfs,y_pred_2dfs,average=None)\n",
    "accuracy_2dfs, recall_2dfs ,precision_2dfs, f1_2dfs"
   ]
  },
  {
   "cell_type": "code",
   "execution_count": 194,
   "id": "586d288b-4a00-4c9a-890f-a1b01b4bb7dd",
   "metadata": {},
   "outputs": [
    {
     "data": {
      "text/plain": [
       "<sklearn.metrics._plot.confusion_matrix.ConfusionMatrixDisplay at 0x706bd9ca4940>"
      ]
     },
     "execution_count": 194,
     "metadata": {},
     "output_type": "execute_result"
    },
    {
     "data": {
      "image/png": "[encoded data removed]",
      "text/plain": [
       "<Figure size 640x480 with 2 Axes>"
      ]
     },
     "metadata": {},
     "output_type": "display_data"
    }
   ],
   "source": [
    "ConfusionMatrixDisplay.from_predictions(y_test_2dfs,y_pred_2dfs)"
   ]
  },
  {
   "cell_type": "markdown",
   "id": "4178e1e1-0d00-4d32-aaa4-88d4ad49b227",
   "metadata": {},
   "source": [
    "# Model 5 - Hyperparameter Tuned Decision Tree"
   ]
  },
  {
   "cell_type": "code",
   "execution_count": 173,
   "id": "0c6ad5a8-e04d-4de0-b328-4bea9f345bef",
   "metadata": {},
   "outputs": [],
   "source": [
    "param = {\n",
    "    'criterion':['gini', 'entropy', 'log_loss'],\n",
    "    'splitter': ['best', 'random'],\n",
    "    'max_depth': [None, 10, 20, 30, 40],\n",
    "    'min_samples_split': [2, 5, 10],\n",
    "    'min_samples_leaf': [1, 2, 4]\n",
    "} \n",
    "dtc_tuning = DecisionTreeClassifier(random_state=19,class_weight='balanced')\n",
    "\n",
    "grid_search = GridSearchCV(estimator=dtc_tuning, param_grid=param, scoring='precision_macro', cv=5, n_jobs=-1, \n",
    "                           verbose=1,return_train_score=True)"
   ]
  },
  {
   "cell_type": "code",
   "execution_count": 174,
   "id": "89314ec6-0fe1-4295-a180-a4587286914e",
   "metadata": {},
   "outputs": [
    {
     "name": "stdout",
     "output_type": "stream",
     "text": [
      "Fitting 5 folds for each of 270 candidates, totalling 1350 fits\n"
     ]
    },
    {
     "data": {
      "text/html": [
       "<style>#sk-container-id-21 {color: black;}#sk-container-id-21 pre{padding: 0;}#sk-container-id-21 div.sk-toggleable {background-color: white;}#sk-container-id-21 label.sk-toggleable__label {cursor: pointer;display: block;width: 100%;margin-bottom: 0;padding: 0.3em;box-sizing: border-box;text-align: center;}#sk-container-id-21 label.sk-toggleable__label-arrow:before {content: \"▸\";float: left;margin-right: 0.25em;color: #696969;}#sk-container-id-21 label.sk-toggleable__label-arrow:hover:before {color: black;}#sk-container-id-21 div.sk-estimator:hover label.sk-toggleable__label-arrow:before {color: black;}#sk-container-id-21 div.sk-toggleable__content {max-height: 0;max-width: 0;overflow: hidden;text-align: left;background-color: #f0f8ff;}#sk-container-id-21 div.sk-toggleable__content pre {margin: 0.2em;color: black;border-radius: 0.25em;background-color: #f0f8ff;}#sk-container-id-21 input.sk-toggleable__control:checked~div.sk-toggleable__content {max-height: 200px;max-width: 100%;overflow: auto;}#sk-container-id-21 input.sk-toggleable__control:checked~label.sk-toggleable__label-arrow:before {content: \"▾\";}#sk-container-id-21 div.sk-estimator input.sk-toggleable__control:checked~label.sk-toggleable__label {background-color: #d4ebff;}#sk-container-id-21 div.sk-label input.sk-toggleable__control:checked~label.sk-toggleable__label {background-color: #d4ebff;}#sk-container-id-21 input.sk-hidden--visually {border: 0;clip: rect(1px 1px 1px 1px);clip: rect(1px, 1px, 1px, 1px);height: 1px;margin: -1px;overflow: hidden;padding: 0;position: absolute;width: 1px;}#sk-container-id-21 div.sk-estimator {font-family: monospace;background-color: #f0f8ff;border: 1px dotted black;border-radius: 0.25em;box-sizing: border-box;margin-bottom: 0.5em;}#sk-container-id-21 div.sk-estimator:hover {background-color: #d4ebff;}#sk-container-id-21 div.sk-parallel-item::after {content: \"\";width: 100%;border-bottom: 1px solid gray;flex-grow: 1;}#sk-container-id-21 div.sk-label:hover label.sk-toggleable__label {background-color: #d4ebff;}#sk-container-id-21 div.sk-serial::before {content: \"\";position: absolute;border-left: 1px solid gray;box-sizing: border-box;top: 0;bottom: 0;left: 50%;z-index: 0;}#sk-container-id-21 div.sk-serial {display: flex;flex-direction: column;align-items: center;background-color: white;padding-right: 0.2em;padding-left: 0.2em;position: relative;}#sk-container-id-21 div.sk-item {position: relative;z-index: 1;}#sk-container-id-21 div.sk-parallel {display: flex;align-items: stretch;justify-content: center;background-color: white;position: relative;}#sk-container-id-21 div.sk-item::before, #sk-container-id-21 div.sk-parallel-item::before {content: \"\";position: absolute;border-left: 1px solid gray;box-sizing: border-box;top: 0;bottom: 0;left: 50%;z-index: -1;}#sk-container-id-21 div.sk-parallel-item {display: flex;flex-direction: column;z-index: 1;position: relative;background-color: white;}#sk-container-id-21 div.sk-parallel-item:first-child::after {align-self: flex-end;width: 50%;}#sk-container-id-21 div.sk-parallel-item:last-child::after {align-self: flex-start;width: 50%;}#sk-container-id-21 div.sk-parallel-item:only-child::after {width: 0;}#sk-container-id-21 div.sk-dashed-wrapped {border: 1px dashed gray;margin: 0 0.4em 0.5em 0.4em;box-sizing: border-box;padding-bottom: 0.4em;background-color: white;}#sk-container-id-21 div.sk-label label {font-family: monospace;font-weight: bold;display: inline-block;line-height: 1.2em;}#sk-container-id-21 div.sk-label-container {text-align: center;}#sk-container-id-21 div.sk-container {/* jupyter's `normalize.less` sets `[hidden] { display: none; }` but bootstrap.min.css set `[hidden] { display: none !important; }` so we also need the `!important` here to be able to override the default hidden behavior on the sphinx rendered scikit-learn.org. See: https://github.com/scikit-learn/scikit-learn/issues/21755 */display: inline-block !important;position: relative;}#sk-container-id-21 div.sk-text-repr-fallback {display: none;}</style><div id=\"sk-container-id-21\" class=\"sk-top-container\"><div class=\"sk-text-repr-fallback\"><pre>GridSearchCV(cv=5,\n",
       "             estimator=DecisionTreeClassifier(class_weight=&#x27;balanced&#x27;,\n",
       "                                              random_state=19),\n",
       "             n_jobs=-1,\n",
       "             param_grid={&#x27;criterion&#x27;: [&#x27;gini&#x27;, &#x27;entropy&#x27;, &#x27;log_loss&#x27;],\n",
       "                         &#x27;max_depth&#x27;: [None, 10, 20, 30, 40],\n",
       "                         &#x27;min_samples_leaf&#x27;: [1, 2, 4],\n",
       "                         &#x27;min_samples_split&#x27;: [2, 5, 10],\n",
       "                         &#x27;splitter&#x27;: [&#x27;best&#x27;, &#x27;random&#x27;]},\n",
       "             return_train_score=True, scoring=&#x27;precision_macro&#x27;, verbose=1)</pre><b>In a Jupyter environment, please rerun this cell to show the HTML representation or trust the notebook. <br />On GitHub, the HTML representation is unable to render, please try loading this page with nbviewer.org.</b></div><div class=\"sk-container\" hidden><div class=\"sk-item sk-dashed-wrapped\"><div class=\"sk-label-container\"><div class=\"sk-label sk-toggleable\"><input class=\"sk-toggleable__control sk-hidden--visually\" id=\"sk-estimator-id-25\" type=\"checkbox\" ><label for=\"sk-estimator-id-25\" class=\"sk-toggleable__label sk-toggleable__label-arrow\">GridSearchCV</label><div class=\"sk-toggleable__content\"><pre>GridSearchCV(cv=5,\n",
       "             estimator=DecisionTreeClassifier(class_weight=&#x27;balanced&#x27;,\n",
       "                                              random_state=19),\n",
       "             n_jobs=-1,\n",
       "             param_grid={&#x27;criterion&#x27;: [&#x27;gini&#x27;, &#x27;entropy&#x27;, &#x27;log_loss&#x27;],\n",
       "                         &#x27;max_depth&#x27;: [None, 10, 20, 30, 40],\n",
       "                         &#x27;min_samples_leaf&#x27;: [1, 2, 4],\n",
       "                         &#x27;min_samples_split&#x27;: [2, 5, 10],\n",
       "                         &#x27;splitter&#x27;: [&#x27;best&#x27;, &#x27;random&#x27;]},\n",
       "             return_train_score=True, scoring=&#x27;precision_macro&#x27;, verbose=1)</pre></div></div></div><div class=\"sk-parallel\"><div class=\"sk-parallel-item\"><div class=\"sk-item\"><div class=\"sk-label-container\"><div class=\"sk-label sk-toggleable\"><input class=\"sk-toggleable__control sk-hidden--visually\" id=\"sk-estimator-id-26\" type=\"checkbox\" ><label for=\"sk-estimator-id-26\" class=\"sk-toggleable__label sk-toggleable__label-arrow\">estimator: DecisionTreeClassifier</label><div class=\"sk-toggleable__content\"><pre>DecisionTreeClassifier(class_weight=&#x27;balanced&#x27;, random_state=19)</pre></div></div></div><div class=\"sk-serial\"><div class=\"sk-item\"><div class=\"sk-estimator sk-toggleable\"><input class=\"sk-toggleable__control sk-hidden--visually\" id=\"sk-estimator-id-27\" type=\"checkbox\" ><label for=\"sk-estimator-id-27\" class=\"sk-toggleable__label sk-toggleable__label-arrow\">DecisionTreeClassifier</label><div class=\"sk-toggleable__content\"><pre>DecisionTreeClassifier(class_weight=&#x27;balanced&#x27;, random_state=19)</pre></div></div></div></div></div></div></div></div></div></div>"
      ],
      "text/plain": [
       "GridSearchCV(cv=5,\n",
       "             estimator=DecisionTreeClassifier(class_weight='balanced',\n",
       "                                              random_state=19),\n",
       "             n_jobs=-1,\n",
       "             param_grid={'criterion': ['gini', 'entropy', 'log_loss'],\n",
       "                         'max_depth': [None, 10, 20, 30, 40],\n",
       "                         'min_samples_leaf': [1, 2, 4],\n",
       "                         'min_samples_split': [2, 5, 10],\n",
       "                         'splitter': ['best', 'random']},\n",
       "             return_train_score=True, scoring='precision_macro', verbose=1)"
      ]
     },
     "execution_count": 174,
     "metadata": {},
     "output_type": "execute_result"
    }
   ],
   "source": [
    "grid_search.fit(X_train_scaled, y_train)"
   ]
  },
  {
   "cell_type": "code",
   "execution_count": 175,
   "id": "ce27de0b-4f7d-43ff-92f2-8efc5e2f57ef",
   "metadata": {},
   "outputs": [],
   "source": [
    "best_params = grid_search.best_params_\n",
    "best_estimator = grid_search.best_estimator_"
   ]
  },
  {
   "cell_type": "code",
   "execution_count": 176,
   "id": "3d27b140-d937-4916-90a5-a6167e8c3529",
   "metadata": {},
   "outputs": [
    {
     "data": {
      "text/plain": [
       "{'criterion': 'entropy',\n",
       " 'max_depth': 10,\n",
       " 'min_samples_leaf': 4,\n",
       " 'min_samples_split': 10,\n",
       " 'splitter': 'best'}"
      ]
     },
     "execution_count": 176,
     "metadata": {},
     "output_type": "execute_result"
    }
   ],
   "source": [
    "best_params"
   ]
  },
  {
   "cell_type": "code",
   "execution_count": 177,
   "id": "bcca6320-66f5-418b-8ce3-7d4d7058575e",
   "metadata": {},
   "outputs": [
    {
     "data": {
      "text/plain": [
       "0.922564529558701"
      ]
     },
     "execution_count": 177,
     "metadata": {},
     "output_type": "execute_result"
    }
   ],
   "source": [
    "best_estimator.score(X_train_scaled,y_train)"
   ]
  },
  {
   "cell_type": "code",
   "execution_count": 178,
   "id": "37203def-389a-4b8d-9694-15410dcb2cea",
   "metadata": {},
   "outputs": [
    {
     "data": {
      "text/html": [
       "<style>#sk-container-id-22 {color: black;}#sk-container-id-22 pre{padding: 0;}#sk-container-id-22 div.sk-toggleable {background-color: white;}#sk-container-id-22 label.sk-toggleable__label {cursor: pointer;display: block;width: 100%;margin-bottom: 0;padding: 0.3em;box-sizing: border-box;text-align: center;}#sk-container-id-22 label.sk-toggleable__label-arrow:before {content: \"▸\";float: left;margin-right: 0.25em;color: #696969;}#sk-container-id-22 label.sk-toggleable__label-arrow:hover:before {color: black;}#sk-container-id-22 div.sk-estimator:hover label.sk-toggleable__label-arrow:before {color: black;}#sk-container-id-22 div.sk-toggleable__content {max-height: 0;max-width: 0;overflow: hidden;text-align: left;background-color: #f0f8ff;}#sk-container-id-22 div.sk-toggleable__content pre {margin: 0.2em;color: black;border-radius: 0.25em;background-color: #f0f8ff;}#sk-container-id-22 input.sk-toggleable__control:checked~div.sk-toggleable__content {max-height: 200px;max-width: 100%;overflow: auto;}#sk-container-id-22 input.sk-toggleable__control:checked~label.sk-toggleable__label-arrow:before {content: \"▾\";}#sk-container-id-22 div.sk-estimator input.sk-toggleable__control:checked~label.sk-toggleable__label {background-color: #d4ebff;}#sk-container-id-22 div.sk-label input.sk-toggleable__control:checked~label.sk-toggleable__label {background-color: #d4ebff;}#sk-container-id-22 input.sk-hidden--visually {border: 0;clip: rect(1px 1px 1px 1px);clip: rect(1px, 1px, 1px, 1px);height: 1px;margin: -1px;overflow: hidden;padding: 0;position: absolute;width: 1px;}#sk-container-id-22 div.sk-estimator {font-family: monospace;background-color: #f0f8ff;border: 1px dotted black;border-radius: 0.25em;box-sizing: border-box;margin-bottom: 0.5em;}#sk-container-id-22 div.sk-estimator:hover {background-color: #d4ebff;}#sk-container-id-22 div.sk-parallel-item::after {content: \"\";width: 100%;border-bottom: 1px solid gray;flex-grow: 1;}#sk-container-id-22 div.sk-label:hover label.sk-toggleable__label {background-color: #d4ebff;}#sk-container-id-22 div.sk-serial::before {content: \"\";position: absolute;border-left: 1px solid gray;box-sizing: border-box;top: 0;bottom: 0;left: 50%;z-index: 0;}#sk-container-id-22 div.sk-serial {display: flex;flex-direction: column;align-items: center;background-color: white;padding-right: 0.2em;padding-left: 0.2em;position: relative;}#sk-container-id-22 div.sk-item {position: relative;z-index: 1;}#sk-container-id-22 div.sk-parallel {display: flex;align-items: stretch;justify-content: center;background-color: white;position: relative;}#sk-container-id-22 div.sk-item::before, #sk-container-id-22 div.sk-parallel-item::before {content: \"\";position: absolute;border-left: 1px solid gray;box-sizing: border-box;top: 0;bottom: 0;left: 50%;z-index: -1;}#sk-container-id-22 div.sk-parallel-item {display: flex;flex-direction: column;z-index: 1;position: relative;background-color: white;}#sk-container-id-22 div.sk-parallel-item:first-child::after {align-self: flex-end;width: 50%;}#sk-container-id-22 div.sk-parallel-item:last-child::after {align-self: flex-start;width: 50%;}#sk-container-id-22 div.sk-parallel-item:only-child::after {width: 0;}#sk-container-id-22 div.sk-dashed-wrapped {border: 1px dashed gray;margin: 0 0.4em 0.5em 0.4em;box-sizing: border-box;padding-bottom: 0.4em;background-color: white;}#sk-container-id-22 div.sk-label label {font-family: monospace;font-weight: bold;display: inline-block;line-height: 1.2em;}#sk-container-id-22 div.sk-label-container {text-align: center;}#sk-container-id-22 div.sk-container {/* jupyter's `normalize.less` sets `[hidden] { display: none; }` but bootstrap.min.css set `[hidden] { display: none !important; }` so we also need the `!important` here to be able to override the default hidden behavior on the sphinx rendered scikit-learn.org. See: https://github.com/scikit-learn/scikit-learn/issues/21755 */display: inline-block !important;position: relative;}#sk-container-id-22 div.sk-text-repr-fallback {display: none;}</style><div id=\"sk-container-id-22\" class=\"sk-top-container\"><div class=\"sk-text-repr-fallback\"><pre>DecisionTreeClassifier(class_weight=&#x27;balanced&#x27;, criterion=&#x27;entropy&#x27;,\n",
       "                       max_depth=10, min_samples_leaf=4, min_samples_split=10,\n",
       "                       random_state=19)</pre><b>In a Jupyter environment, please rerun this cell to show the HTML representation or trust the notebook. <br />On GitHub, the HTML representation is unable to render, please try loading this page with nbviewer.org.</b></div><div class=\"sk-container\" hidden><div class=\"sk-item\"><div class=\"sk-estimator sk-toggleable\"><input class=\"sk-toggleable__control sk-hidden--visually\" id=\"sk-estimator-id-28\" type=\"checkbox\" checked><label for=\"sk-estimator-id-28\" class=\"sk-toggleable__label sk-toggleable__label-arrow\">DecisionTreeClassifier</label><div class=\"sk-toggleable__content\"><pre>DecisionTreeClassifier(class_weight=&#x27;balanced&#x27;, criterion=&#x27;entropy&#x27;,\n",
       "                       max_depth=10, min_samples_leaf=4, min_samples_split=10,\n",
       "                       random_state=19)</pre></div></div></div></div></div>"
      ],
      "text/plain": [
       "DecisionTreeClassifier(class_weight='balanced', criterion='entropy',\n",
       "                       max_depth=10, min_samples_leaf=4, min_samples_split=10,\n",
       "                       random_state=19)"
      ]
     },
     "execution_count": 178,
     "metadata": {},
     "output_type": "execute_result"
    }
   ],
   "source": [
    "best_estimator"
   ]
  },
  {
   "cell_type": "code",
   "execution_count": 179,
   "id": "bbe1d08d-bb55-4702-9e2b-2deaab45789e",
   "metadata": {},
   "outputs": [],
   "source": [
    "y_pred_tuning = best_estimator.predict(X_test_scaled)"
   ]
  },
  {
   "cell_type": "code",
   "execution_count": 180,
   "id": "7ed82107-4afb-4dbe-ad7f-04260534b072",
   "metadata": {},
   "outputs": [
    {
     "data": {
      "text/plain": [
       "<sklearn.metrics._plot.confusion_matrix.ConfusionMatrixDisplay at 0x706c2babeeb0>"
      ]
     },
     "execution_count": 180,
     "metadata": {},
     "output_type": "execute_result"
    },
    {
     "data": {
      "image/png": "[encoded data removed]",
      "text/plain": [
       "<Figure size 640x480 with 2 Axes>"
      ]
     },
     "metadata": {},
     "output_type": "display_data"
    }
   ],
   "source": [
    "ConfusionMatrixDisplay.from_estimator(best_estimator,X_test_scaled,y_test)"
   ]
  },
  {
   "cell_type": "code",
   "execution_count": 181,
   "id": "09fc3a48-8f9d-4e0f-94b5-932d04390bd9",
   "metadata": {},
   "outputs": [
    {
     "data": {
      "text/plain": [
       "(0.9019882106104506,\n",
       " array([0.87606507, 0.92588791, 0.88262911]),\n",
       " array([0.88118426, 0.91111111, 0.90529695]),\n",
       " array([0.87861721, 0.91844008, 0.89381933]))"
      ]
     },
     "execution_count": 181,
     "metadata": {},
     "output_type": "execute_result"
    }
   ],
   "source": [
    "accuracy_tuning, recall_tuning, precision_tuning, f1_tuning = accuracy_score(y_test,y_pred_tuning), \\\n",
    "                                                                          recall_score(y_test,y_pred_tuning,average=None), \\\n",
    "                                                                          precision_score(y_test,y_pred_tuning,average=None),\\\n",
    "                                                                          f1_score(y_test,y_pred_tuning,average=None)\n",
    "accuracy_tuning, recall_tuning ,precision_tuning, f1_tuning"
   ]
  },
  {
   "cell_type": "code",
   "execution_count": null,
   "id": "8fad131b-5574-403f-8099-65b9caecb857",
   "metadata": {},
   "outputs": [],
   "source": []
  }
 ],
 "metadata": {
  "kernelspec": {
   "display_name": "Python (learn-env)",
   "language": "python",
   "name": "learn-env"
  },
  "language_info": {
   "codemirror_mode": {
    "name": "ipython",
    "version": 3
   },
   "file_extension": ".py",
   "mimetype": "text/x-python",
   "name": "python",
   "nbconvert_exporter": "python",
   "pygments_lexer": "ipython3",
   "version": "3.8.12"
  }
 },
 "nbformat": 4,
 "nbformat_minor": 5
}
